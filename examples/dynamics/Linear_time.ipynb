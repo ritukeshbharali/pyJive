{
 "cells": [
  {
   "cell_type": "markdown",
   "id": "d36f341c-9c28-4db3-bbbc-73f718ad961f",
   "metadata": {},
   "source": [
    "## Preliminaries"
   ]
  },
  {
   "cell_type": "code",
   "execution_count": null,
   "id": "c796dda8-d59e-4009-bdf0-49c733c0cc52",
   "metadata": {
    "tags": []
   },
   "outputs": [],
   "source": [
    "import sys\n",
    "import numpy as np\n",
    "sys.path.append('../../')\n",
    "\n",
    "import utils.proputils as pu\n",
    "import main\n",
    "from matplotlib import pyplot as plt\n",
    "from names import GlobNames as gn\n",
    "\n",
    "import json\n",
    "\n",
    "%matplotlib tk"
   ]
  },
  {
   "cell_type": "markdown",
   "id": "82eaafd2-187e-49bc-9c52-f0f3290c841d",
   "metadata": {},
   "source": [
    "## Examples\n",
    "Should all work with both explicit and implicit time integration\n",
    "- `bar_wave`: 1D Bar with a tensile load, increasing over time\n",
    "- `beam_wave`: Simply supported beam with a constant moment\n",
    "- `portal_wave`: Simple portal with constant lateral load"
   ]
  },
  {
   "cell_type": "markdown",
   "id": "de042132-00b5-45f9-b73c-73e49f81d644",
   "metadata": {},
   "source": [
    "## Configuring the model"
   ]
  },
  {
   "cell_type": "code",
   "execution_count": null,
   "id": "49a4d10d-7d90-4ea2-9084-bca0eae9d73b",
   "metadata": {
    "tags": []
   },
   "outputs": [],
   "source": [
    "props = pu.parse_file('bar_wave.pro')\n",
    "print(props)"
   ]
  },
  {
   "cell_type": "markdown",
   "id": "b3e6ade9-eb22-4261-904c-006376fd9495",
   "metadata": {},
   "source": [
    "## Solving"
   ]
  },
  {
   "cell_type": "code",
   "execution_count": null,
   "id": "b6bf851c-6c45-45b2-b71c-6f00c6f1b17c",
   "metadata": {
    "tags": []
   },
   "outputs": [],
   "source": [
    "# props['explicittime']['type'] = 'NLNewmark'\n",
    "props['explicittime']['itermax'] = 20\n",
    "props['explicittime']['tolerance'] = 1.e-6\n",
    "props['explicittime']['lenient'] = 'False'"
   ]
  },
  {
   "cell_type": "code",
   "execution_count": null,
   "id": "bc19c9d2-8930-466c-b8b2-9f086d248ee0",
   "metadata": {
    "tags": []
   },
   "outputs": [],
   "source": [
    "globdat = main.jive(props)"
   ]
  },
  {
   "cell_type": "code",
   "execution_count": null,
   "id": "a8237ab4-3eab-44c0-9673-8a3eeb4d3c66",
   "metadata": {},
   "outputs": [],
   "source": [
    "props = pu.parse_file('portal_wave.pro')\n",
    "props['explicittime']['type'] = 'NLNewmark'\n",
    "props['explicittime']['itermax'] = 20\n",
    "props['explicittime']['tolerance'] = 1.e-6\n",
    "props['explicittime']['lenient'] = 'False'\n",
    "\n",
    "globdat = main.jive(props)"
   ]
  },
  {
   "cell_type": "markdown",
   "id": "76b2bc4e-e313-48d9-a3e4-7c5e82cc11f5",
   "metadata": {
    "tags": []
   },
   "source": [
    "Explicit 0.35715428888371237\n",
    "\n",
    "Newmark 0.3627227306666484\n",
    "\n",
    "NLNewmark 0.3627227306665111\n",
    "\n",
    "NLNewmark with nonlin 0.3782942771524399"
   ]
  },
  {
   "cell_type": "code",
   "execution_count": null,
   "id": "00a2d2c8-054a-4685-8bf8-89c1881d3916",
   "metadata": {},
   "outputs": [],
   "source": []
  }
 ],
 "metadata": {
  "kernelspec": {
   "display_name": "Python 3 (ipykernel)",
   "language": "python",
   "name": "python3"
  },
  "language_info": {
   "codemirror_mode": {
    "name": "ipython",
    "version": 3
   },
   "file_extension": ".py",
   "mimetype": "text/x-python",
   "name": "python",
   "nbconvert_exporter": "python",
   "pygments_lexer": "ipython3",
   "version": "3.10.9"
  },
  "vscode": {
   "interpreter": {
    "hash": "2f56e53acab938e533261baa35aac2c581caa9f2f4a01ed69448e50e809c0ddc"
   }
  }
 },
 "nbformat": 4,
 "nbformat_minor": 5
}
