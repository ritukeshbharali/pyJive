{
 "cells": [
  {
   "cell_type": "markdown",
   "id": "6924d9be-df05-4bb7-81f7-4d34a7a785da",
   "metadata": {},
   "source": [
    "<figure>\n",
    "  <IMG SRC=\"https://raw.githubusercontent.com/fmeer/public-files/main/TUlogo.png\" WIDTH=200 ALIGN=\"right\">\n",
    "</figure>\n",
    "\n",
    "# CIEM5110-2 Workshop 4.1: Nonlinear FEM and linear buckling analysis (notebook 3)"
   ]
  },
  {
   "cell_type": "markdown",
   "id": "41c610bf-3880-4abf-bd47-968d32569fea",
   "metadata": {},
   "source": [
    "### Spring system with inclined spring\n",
    "\n",
    "An additional example that can be analyzed to check imperfection sensitivity.\n",
    "\n",
    "<center><img src=\"https://raw.githubusercontent.com/fmeer/public-files/main/ciem5110/inclined.png\" alt=\"Simple frame\" width=\"200\"/></center>\n",
    "\n",
    "\n"
   ]
  },
  {
   "cell_type": "code",
   "execution_count": null,
   "id": "2e95ee22-111e-4405-97a0-89e7cd35ed9f",
   "metadata": {},
   "outputs": [],
   "source": [
    "import sys\n",
    "sys.path.append('../../../')\n",
    "\n",
    "import matplotlib.pyplot as plt\n",
    "\n",
    "from utils import proputils as pu\n",
    "import main\n",
    "from names import GlobNames as gn\n",
    "\n",
    "%matplotlib tk"
   ]
  },
  {
   "cell_type": "markdown",
   "id": "e835c4f4-2209-4d4d-98f5-3920c5edb61c",
   "metadata": {},
   "source": [
    "## Configuring the model"
   ]
  },
  {
   "cell_type": "code",
   "execution_count": null,
   "id": "3565a207-1684-4522-b8d6-df77bccc7bcc",
   "metadata": {},
   "outputs": [],
   "source": [
    "props = pu.parse_file('frame.pro')\n"
   ]
  },
  {
   "cell_type": "markdown",
   "id": "b913dd24-8f0d-48fb-b6fa-720ba75aefc3",
   "metadata": {},
   "source": [
    "## Solving"
   ]
  },
  {
   "cell_type": "code",
   "execution_count": null,
   "id": "824391d0-c5a6-408d-825d-3334e6c2c950",
   "metadata": {},
   "outputs": [],
   "source": [
    "globdat = main.jive(props)\n"
   ]
  },
  {
   "cell_type": "markdown",
   "id": "da43df1e-bf3b-41a5-9147-49fe57f4432f",
   "metadata": {},
   "source": [
    "## Postprocessing"
   ]
  },
  {
   "cell_type": "code",
   "execution_count": null,
   "id": "successful-reliance",
   "metadata": {},
   "outputs": [],
   "source": []
  }
 ],
 "metadata": {
  "kernelspec": {
   "display_name": "Python 3 (ipykernel)",
   "language": "python",
   "name": "python3"
  },
  "language_info": {
   "codemirror_mode": {
    "name": "ipython",
    "version": 3
   },
   "file_extension": ".py",
   "mimetype": "text/x-python",
   "name": "python",
   "nbconvert_exporter": "python",
   "pygments_lexer": "ipython3",
   "version": "3.10.6"
  }
 },
 "nbformat": 4,
 "nbformat_minor": 5
}
