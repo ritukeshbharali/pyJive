{
 "cells": [
  {
   "cell_type": "markdown",
   "id": "734a34b9-128e-446c-9fe3-2ca1784d9251",
   "metadata": {},
   "source": [
    "<figure>\n",
    "  <IMG SRC=\"https://raw.githubusercontent.com/fmeer/public-files/main/TUlogo.png\" WIDTH=200 ALIGN=\"right\">\n",
    "</figure>\n",
    "\n",
    "# CIEM5110-2 Workshop 4.1: Nonlinear FEM and linear buckling analysis (notebook 2)"
   ]
  },
  {
   "cell_type": "markdown",
   "id": "6924d9be-df05-4bb7-81f7-4d34a7a785da",
   "metadata": {},
   "source": [
    "## Simple frame\n",
    "In this notebook the buckling behavior of a simple frame is analyzed with linear buckling analysis and geometrically nonlinear analysis. \n",
    "\n",
    "<center><img src=\"https://raw.githubusercontent.com/fmeer/public-files/main/ciem5110/frameA.png\" alt=\"Simple frame\" width=\"300\"/></center>\n",
    "\n"
   ]
  },
  {
   "cell_type": "code",
   "execution_count": null,
   "id": "2e95ee22-111e-4405-97a0-89e7cd35ed9f",
   "metadata": {},
   "outputs": [],
   "source": [
    "import numpy as np\n",
    "import sys\n",
    "sys.path.append('../../../')\n",
    "\n",
    "from utils import proputils as pu\n",
    "import main\n",
    "from names import GlobNames as gn\n",
    "\n",
    "%matplotlib tk"
   ]
  },
  {
   "cell_type": "markdown",
   "id": "301119da-5235-4e48-8c02-aa5fc4fdefae",
   "metadata": {},
   "source": [
    "### Linear buckling analysis\n",
    "We perform linear buckling analysis with the `linbuckling.pro` input file"
   ]
  },
  {
   "cell_type": "code",
   "execution_count": null,
   "id": "3565a207-1684-4522-b8d6-df77bccc7bcc",
   "metadata": {},
   "outputs": [],
   "source": [
    "props = pu.parse_file('linbuckling.pro')\n",
    "globdat = main.jive(props)\n"
   ]
  },
  {
   "cell_type": "markdown",
   "id": "biological-retirement",
   "metadata": {},
   "source": [
    "After the analysis, the load scale factors are available in `globdat` under the global name `gn.LBFACTORS`"
   ]
  },
  {
   "cell_type": "code",
   "execution_count": null,
   "id": "demographic-recycling",
   "metadata": {},
   "outputs": [],
   "source": [
    "print(globdat[gn.LBFACTORS][0:5])"
   ]
  },
  {
   "cell_type": "markdown",
   "id": "looking-moisture",
   "metadata": {},
   "source": [
    "### Linear analysis\n",
    "Next, we perform geometrically linear analysis with the `frame.pro` input file. We already use the `NonlinModule` but keep the element formulation linear. For this analysis the `NonlinModule` will converge in one iteration."
   ]
  },
  {
   "cell_type": "code",
   "execution_count": null,
   "id": "successful-phrase",
   "metadata": {
    "scrolled": true
   },
   "outputs": [],
   "source": [
    "props = pu.parse_file('frame.pro')\n",
    "globdat = main.jive(props)"
   ]
  },
  {
   "cell_type": "markdown",
   "id": "4b54b27f-3a84-4cb6-9e77-f48126f5a279",
   "metadata": {},
   "source": [
    "### Geometrically nonlinear analysis"
   ]
  },
  {
   "cell_type": "markdown",
   "id": "1b55c3bf-fb0f-4825-94d5-d330ec55b74e",
   "metadata": {},
   "source": [
    "To perform geometrically nonlinear analysis, we use a different input file. Can you reason where the difference must be? "
   ]
  },
  {
   "cell_type": "code",
   "execution_count": null,
   "id": "64dde8fb-31d5-4c80-9081-5835e82a0e45",
   "metadata": {
    "scrolled": true
   },
   "outputs": [],
   "source": [
    "props = pu.parse_file('nonlinear.pro')\n",
    "globdat = main.jive(props)"
   ]
  },
  {
   "cell_type": "code",
   "execution_count": null,
   "id": "d66e41d9-279e-4426-bcc8-ef5790dcde8f",
   "metadata": {},
   "outputs": [],
   "source": []
  },
  {
   "cell_type": "markdown",
   "id": "7623ceaa-6c28-448a-b424-7afe7ff832c4",
   "metadata": {},
   "source": [
    "To inspect some more results, we can create a new `FrameViewModule` with properties that are defined in the notebook rather than in the `.pro` file. From plotting the moment-distribution it is again apparent that the analysis is nonlinear. The moments are computed in the deformed configuration, otherwise it would not be possible to get nonlinear variations along the members of the frame."
   ]
  },
  {
   "cell_type": "code",
   "execution_count": null,
   "id": "metallic-backing",
   "metadata": {},
   "outputs": [],
   "source": [
    "\n",
    "\n",
    "fv = globdat[gn.MODULEFACTORY].get_module('FrameView','fv')\n",
    "\n",
    "props['fv'] = {}\n",
    "props['fv']['plotStress'] = 'M'\n",
    "props['fv']['deform'] = '0'\n",
    "props['fv']['interactive'] = 'True'\n",
    "props['fv']['step0'] = 100\n",
    "\n",
    "fv.init(props, globdat)\n",
    "status = fv.run(globdat)\n",
    "fv.shutdown(globdat)\n",
    "\n"
   ]
  },
  {
   "cell_type": "markdown",
   "id": "exclusive-philadelphia",
   "metadata": {},
   "source": [
    "We can also access loads or displaclement data for all time steps on nodegroups where this has been recorded as specified in the `loaddisp` section of the input file"
   ]
  },
  {
   "cell_type": "code",
   "execution_count": null,
   "id": "ruled-exception",
   "metadata": {},
   "outputs": [],
   "source": [
    "globdat['loaddisp']['topright']['load']['dy']\n"
   ]
  },
  {
   "cell_type": "code",
   "execution_count": null,
   "id": "stock-joyce",
   "metadata": {},
   "outputs": [],
   "source": []
  }
 ],
 "metadata": {
  "kernelspec": {
   "display_name": "Python 3 (ipykernel)",
   "language": "python",
   "name": "python3"
  },
  "language_info": {
   "codemirror_mode": {
    "name": "ipython",
    "version": 3
   },
   "file_extension": ".py",
   "mimetype": "text/x-python",
   "name": "python",
   "nbconvert_exporter": "python",
   "pygments_lexer": "ipython3",
   "version": "3.10.6"
  }
 },
 "nbformat": 4,
 "nbformat_minor": 5
}
