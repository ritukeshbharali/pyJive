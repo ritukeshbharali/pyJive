{
 "cells": [
  {
   "cell_type": "markdown",
   "id": "d7c79ba7-683d-4e5d-87ba-3ed1d4df5b38",
   "metadata": {},
   "source": [
    "<figure>\n",
    "  <IMG SRC=\"https://raw.githubusercontent.com/fmeer/public-files/main/TUlogo.png\" WIDTH=200 ALIGN=\"right\">\n",
    "</figure>\n",
    "\n",
    "# CIEM5110-2 Workshop 4.1: Nonlinear FEM and linear buckling analysis (notebook 1)"
   ]
  },
  {
   "cell_type": "markdown",
   "id": "b88ed519-54f2-49db-90ef-896c6a7918b9",
   "metadata": {},
   "source": [
    "## Euler Beam\n",
    "In this notebook the buckling behavior of an Euler beam is analyzed with linear buckling analysis and geometrically nonlinear analysis. \n",
    "\n",
    "<center><img src=\"https://raw.githubusercontent.com/fmeer/public-files/main/ciem5110/eulerBeam.png\" alt=\"Euler beam\" width=\"400\"/></center>\n",
    "\n"
   ]
  },
  {
   "cell_type": "code",
   "execution_count": null,
   "id": "2e95ee22-111e-4405-97a0-89e7cd35ed9f",
   "metadata": {},
   "outputs": [],
   "source": [
    "import numpy as np\n",
    "import sys\n",
    "sys.path.append('../../../')\n",
    "\n",
    "from utils import proputils as pu\n",
    "import main\n",
    "from names import GlobNames as gn\n",
    "\n",
    "%matplotlib tk"
   ]
  },
  {
   "cell_type": "markdown",
   "id": "301119da-5235-4e48-8c02-aa5fc4fdefae",
   "metadata": {},
   "source": [
    "### Linear buckling analysis\n",
    "We perform linear buckling analysis with the inputs as defined in `linbuckling.pro`. Note that it is not the name of the input file that specifies which analysis is performed but rather its content. Inside `linbuckling.pro` you can find that a module called `LinBuck` is referred to. That is where we tell the program to perform linear buckling analysis."
   ]
  },
  {
   "cell_type": "code",
   "execution_count": null,
   "id": "3565a207-1684-4522-b8d6-df77bccc7bcc",
   "metadata": {},
   "outputs": [],
   "source": [
    "props = pu.parse_file('linbuckling.pro')\n",
    "globdat = main.jive(props)\n"
   ]
  },
  {
   "cell_type": "markdown",
   "id": "fitting-affairs",
   "metadata": {},
   "source": [
    "After the analysis, the load scale factors are available in `globdat` under the global name `gn.LBFACTORS`"
   ]
  },
  {
   "cell_type": "code",
   "execution_count": null,
   "id": "wooden-monkey",
   "metadata": {},
   "outputs": [],
   "source": [
    "print(globdat[gn.LBFACTORS][0:10])"
   ]
  },
  {
   "cell_type": "markdown",
   "id": "0aff9116-ffd6-4317-ba80-1efea0faac8d",
   "metadata": {},
   "source": [
    "You can compare the solutions from linear buckling analysis to the theoretical solutions\n",
    "$$ F_E = \\frac{n^2\\pi^2 EI}{L^2}$$\n"
   ]
  },
  {
   "cell_type": "code",
   "execution_count": null,
   "id": "ded76b22-1f27-49bb-a60d-8c97433b2dfd",
   "metadata": {},
   "outputs": [],
   "source": []
  },
  {
   "cell_type": "markdown",
   "id": "91e8f3f1-a846-4793-9dda-77a441a38c25",
   "metadata": {},
   "source": [
    "What can be done to improve the agreement?"
   ]
  },
  {
   "cell_type": "code",
   "execution_count": null,
   "id": "6345ba5b-3b4b-4f4f-b9d8-56fc1487e8fb",
   "metadata": {},
   "outputs": [],
   "source": []
  },
  {
   "cell_type": "markdown",
   "id": "b37761ee-026f-4a2e-9c5c-91aca2496aef",
   "metadata": {},
   "source": [
    "### Nonlinear analysis"
   ]
  },
  {
   "cell_type": "markdown",
   "id": "little-divide",
   "metadata": {},
   "source": [
    "We can also perform nonlinear analysis. The input file `nonlin.pro` contains a lot of similar content, but specifies `NonlinModule` instead of `LinBuckModule` to perform a different type of analysis."
   ]
  },
  {
   "cell_type": "code",
   "execution_count": null,
   "id": "dietary-oriental",
   "metadata": {
    "scrolled": true
   },
   "outputs": [],
   "source": [
    "props = pu.parse_file('nonlin.pro')\n",
    "globdat = main.jive(props)"
   ]
  },
  {
   "cell_type": "markdown",
   "id": "subsequent-boxing",
   "metadata": {},
   "source": [
    "In the analysis above, no buckling can be observed. Why is that?\n",
    "\n",
    "We can try to force the buckling behavior with an imperfection as below (note that we set the value of a second point load, but its increment is 0 meaning that this point load will not increase in magnitude).\n"
   ]
  },
  {
   "cell_type": "code",
   "execution_count": null,
   "id": "alpine-transmission",
   "metadata": {},
   "outputs": [],
   "source": [
    "props['model']['neum']['groups'] = '[ left, mid ]'\n",
    "props['model']['neum']['dofs'] = '[ dx, dy ]'\n",
    "props['model']['neum']['values'] = '[ 0.1, 0.001 ]'\n",
    "props['model']['neum']['loadIncr'] = '[ 0.1, 0. ]'\n",
    "globdat = main.jive(props)\n"
   ]
  },
  {
   "cell_type": "markdown",
   "id": "326b33d3-46bd-4001-8bf5-13ec5db5e11f",
   "metadata": {},
   "source": [
    "The results above are still not satisfactory. The solution does not converge and these results are not meaningful."
   ]
  },
  {
   "cell_type": "markdown",
   "id": "e9721307-3e0a-4d64-91f5-7ff7b510187c",
   "metadata": {},
   "source": [
    "### Displacement control\n",
    "\n",
    "It is better to perform the analysis in displacement control"
   ]
  },
  {
   "cell_type": "code",
   "execution_count": null,
   "id": "138879c9-543e-4b3a-8094-f65fbcb535fa",
   "metadata": {
    "scrolled": true
   },
   "outputs": [],
   "source": [
    "props = pu.parse_file('dispControl.pro')\n",
    "globdat = main.jive(props)"
   ]
  },
  {
   "cell_type": "markdown",
   "id": "beautiful-customs",
   "metadata": {},
   "source": [
    "Finally, we can repeat the analysis for a longer time to get info on the postbuckling response"
   ]
  },
  {
   "cell_type": "code",
   "execution_count": null,
   "id": "random-layout",
   "metadata": {},
   "outputs": [],
   "source": [
    "props['nonlin']['nsteps'] = '3000'\n",
    "globdat = main.jive(props)"
   ]
  },
  {
   "cell_type": "code",
   "execution_count": null,
   "id": "tracked-renaissance",
   "metadata": {},
   "outputs": [],
   "source": []
  }
 ],
 "metadata": {
  "kernelspec": {
   "display_name": "Python 3 (ipykernel)",
   "language": "python",
   "name": "python3"
  },
  "language_info": {
   "codemirror_mode": {
    "name": "ipython",
    "version": 3
   },
   "file_extension": ".py",
   "mimetype": "text/x-python",
   "name": "python",
   "nbconvert_exporter": "python",
   "pygments_lexer": "ipython3",
   "version": "3.10.6"
  }
 },
 "nbformat": 4,
 "nbformat_minor": 5
}
