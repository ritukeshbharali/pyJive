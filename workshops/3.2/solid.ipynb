{
 "cells": [
  {
   "cell_type": "markdown",
   "id": "49d321e3-10cc-4a8d-9d81-3fad147f71b1",
   "metadata": {
    "tags": []
   },
   "source": [
    "<figure>\n",
    "  <IMG SRC=\"https://raw.githubusercontent.com/fmeer/public-files/main/TUlogo.png\" WIDTH=200 ALIGN=\"right\">\n",
    "</figure>\n",
    "\n",
    "# SolidModel: Point load and self-weight"
   ]
  },
  {
   "cell_type": "code",
   "execution_count": null,
   "id": "37137436-d483-41ff-bcf5-1687b1c2b565",
   "metadata": {},
   "outputs": [],
   "source": [
    "import sys\n",
    "sys.path.append('../../')\n",
    "\n",
    "import matplotlib.pyplot as plt\n",
    "\n",
    "from utils import proputils as pu\n",
    "import main\n",
    "from names import GlobNames as gn"
   ]
  },
  {
   "cell_type": "markdown",
   "id": "247dec4c-9b49-4889-bb87-ab566ec58826",
   "metadata": {},
   "source": [
    "# Two-dimensional elastostatics\n",
    "\n",
    "In this notebook we model a beam with two-dimensional elastostatics. Consider the following beam:\n",
    "\n",
    "<center><img src=\"https://raw.githubusercontent.com/fmeer/public-files/main/5123/beam.png\" alt=\"beam\" width=\"500\"/></center>\n",
    "\n",
    "We would like to model this with linear triangles using pyJive. You will start from the provided `beam.pro` property file, which uses the provided `SolidModel`. We first run the model with a point load at midspan and look at the deformations.\n",
    "\n",
    "\n"
   ]
  },
  {
   "cell_type": "markdown",
   "id": "1622aa5a-a0be-457c-904e-d021083762fb",
   "metadata": {},
   "source": [
    "## Run the model with a point load\n",
    "\n",
    "Use the provided `beam.pro` and `beam.msh` files to run the point load problem with pyJive. Running the model as is will give you no deformation. You need to **add a NeumannModel** instance to `beam.pro` or directly to `props` in order to add a point load to the model."
   ]
  },
  {
   "cell_type": "code",
   "execution_count": null,
   "id": "b2e21f09-2c3a-4885-a20e-e8d2a7c0046c",
   "metadata": {},
   "outputs": [],
   "source": [
    "props = pu.parse_file('solid.pro')\n",
    "\n",
    "# Set up a Neumann model for the point load, either here or in beam.pro\n",
    "\n",
    "globdat = main.jive(props)"
   ]
  },
  {
   "cell_type": "markdown",
   "id": "dd9b2614-2d89-4212-b1d7-6d0ee0244934",
   "metadata": {},
   "source": [
    "We now use an external `ViewModule` instance to look at the deformation of the beam. Including and configuring the model from inside `beam.pro` would make it run automatically when calling `main.jive()`, but here we demonstrate the flexibility of doing extra postprocessing after the model is executed:"
   ]
  },
  {
   "cell_type": "code",
   "execution_count": null,
   "id": "40bf994d-5905-4d72-b1a9-d4d84d061425",
   "metadata": {},
   "outputs": [],
   "source": [
    "view = globdat[gn.MODULEFACTORY].get_module('View','view')\n",
    "\n",
    "props['view'] = {}\n",
    "props['view']['plot'] = 'solution[dy]'\n",
    "props['view']['deform'] = 50\n",
    "props['view']['ncolors'] = 100\n",
    "props['view']['interactive'] = 'False'\n",
    "props['view']['colorMap'] = 'plasma_r'\n",
    "\n",
    "view.init(props, globdat)\n",
    "status = view.shutdown(globdat)"
   ]
  },
  {
   "cell_type": "markdown",
   "id": "12178139-615e-4f9e-9ad4-98c8c655aba8",
   "metadata": {},
   "source": [
    "To explore more options provided by `ViewModule`, take a look at `modules/viewmodule.py`.\n",
    "\n",
    "Now compare the maximum displacement in the beam with the analytical solution:\n",
    "\n",
    "$$\\Delta=\\frac{FL^3}{48EI}$$ \n",
    "\n",
    "You can use the block below for that. **TIP**: You can either look at the field above or get the value directly from `globdat[gn.STATE0]` using `globdat[gn.DOFSPACE]`."
   ]
  },
  {
   "cell_type": "code",
   "execution_count": null,
   "id": "6c291668-a343-4a38-8dbe-e9a767de3b8a",
   "metadata": {},
   "outputs": [],
   "source": [
    "# your code here"
   ]
  },
  {
   "cell_type": "markdown",
   "id": "5f350336-c616-4d1a-bcd9-9d832e5f8462",
   "metadata": {},
   "source": [
    "Can you think of an explanation for the difference you see?"
   ]
  },
  {
   "cell_type": "markdown",
   "id": "1d4cbd42-6333-4536-87d5-74d4230bb457",
   "metadata": {},
   "source": [
    "### Run the model with a body load\n",
    "\n",
    "Now we **remove the point load**, and the goal becomes to run the model with a body force $\\mathbf{b} = \\rho\\mathbf{g}=[0,-1]^\\mathrm{T}$. The model then becomes:\n",
    "\n",
    "<center><img src=\"https://raw.githubusercontent.com/fmeer/public-files/main/5123/beam-body-force.png\" alt=\"beam\" width=\"500\"/></center>\n",
    "\n"
   ]
  },
  {
   "cell_type": "markdown",
   "id": "cfb95efa-8639-423e-bcb0-960b703bda5e",
   "metadata": {},
   "source": [
    "We start from the properties stored in `beam.pro`. If you added the point load there, you will have to set it to zero again. We need to set up additional properties. The material already has a $\\rho$ parameter, yet the previous analysis did not account for self weight. This is because `solidmodel.py` has a switch for evaluating body loads. Look up in `solidmodel.py` how to switch on the gravity. "
   ]
  },
  {
   "cell_type": "code",
   "execution_count": null,
   "id": "94577ec9-4381-43e3-b38e-18012a7c3a98",
   "metadata": {
    "tags": []
   },
   "outputs": [],
   "source": [
    "props = pu.parse_file('solid.pro')\n",
    "\n",
    "# your code here\n",
    "\n",
    "globdat = main.jive(props)\n",
    "\n"
   ]
  },
  {
   "cell_type": "markdown",
   "id": "855aaa1a-341d-44f0-9054-b47a16a1112c",
   "metadata": {},
   "source": [
    "Since we derived a new model, we again take over the initial construction of `globdat` and declaration of models, modules and shapes:"
   ]
  },
  {
   "cell_type": "markdown",
   "id": "e87f6842-4f05-48a8-b227-8ea8abcb8fba",
   "metadata": {},
   "source": [
    "With this, we can run the problem. \n",
    "\n",
    "**Important**: Remember to remove the Neumann load from `beam.pro` if you introduced it there!"
   ]
  },
  {
   "cell_type": "markdown",
   "id": "3616f7a3-625d-4744-a1c8-a8ad947122c4",
   "metadata": {},
   "source": [
    "Using a detached ViewModule (as done above), visualize the deformed shape for this beam. Use the code block below for that:"
   ]
  },
  {
   "cell_type": "code",
   "execution_count": null,
   "id": "1de4d538-5f02-408a-8f66-4e2c32bce0ca",
   "metadata": {
    "collapsed": false,
    "jupyter": {
     "outputs_hidden": false
    }
   },
   "outputs": [],
   "source": [
    "view = globdat[gn.MODULEFACTORY].get_module('View','view')\n",
    "\n",
    "props['view'] = {}\n",
    "props['view']['plot'] = 'solution[dy]'\n",
    "props['view']['deform'] = 50\n",
    "props['view']['ncolors'] = 100\n",
    "props['view']['interactive'] = 'False'\n",
    "props['view']['colorMap'] = 'plasma_r'\n",
    "\n",
    "view.init(props, globdat)\n",
    "status = view.shutdown(globdat)"
   ]
  },
  {
   "cell_type": "markdown",
   "id": "6474e785-0de7-4a01-9ae0-d9f2c78112cb",
   "metadata": {},
   "source": [
    "Now compare the **midpoint deflection** with the analytical solution for a beam with distributed load: \n",
    "\n",
    "$$\\Delta=\\frac{5qL^4}{384EI}$$ \n",
    "\n",
    "The point of interest is the same you used to apply the point load above. You can therefore extract the vertical displacement of that node by following the same procedure you did in the previous assignment. Use the code block below for that:"
   ]
  },
  {
   "cell_type": "code",
   "execution_count": null,
   "id": "dd8a7859-5515-471d-a105-8597c25933d0",
   "metadata": {},
   "outputs": [],
   "source": [
    "# your code here\n"
   ]
  },
  {
   "cell_type": "markdown",
   "id": "8158fa5b-1e67-478f-a7d5-779ded98ba29",
   "metadata": {},
   "source": [
    "Do the conclusions from the model with a point load transfer to this one?"
   ]
  }
 ],
 "metadata": {
  "kernelspec": {
   "display_name": "Python 3 (ipykernel)",
   "language": "python",
   "name": "python3"
  },
  "language_info": {
   "codemirror_mode": {
    "name": "ipython",
    "version": 3
   },
   "file_extension": ".py",
   "mimetype": "text/x-python",
   "name": "python",
   "nbconvert_exporter": "python",
   "pygments_lexer": "ipython3",
   "version": "3.10.6"
  }
 },
 "nbformat": 4,
 "nbformat_minor": 5
}
