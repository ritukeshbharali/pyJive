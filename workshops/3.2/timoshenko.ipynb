{
 "cells": [
  {
   "cell_type": "markdown",
   "id": "fcb2dc0d",
   "metadata": {},
   "source": [
    "# TimoshenkoModel: mesh-refinement study"
   ]
  },
  {
   "cell_type": "code",
   "execution_count": null,
   "id": "c74ddbfd",
   "metadata": {
    "tags": []
   },
   "outputs": [],
   "source": [
    "import sys\n",
    "sys.path.append('../../')\n",
    "\n",
    "import matplotlib.pyplot as plt\n",
    "\n",
    "from utils import proputils as pu\n",
    "import main\n",
    "from names import GlobNames as gn"
   ]
  },
  {
   "cell_type": "markdown",
   "id": "ec3ab11c-4691-40ae-97ba-8b8e2aaf8347",
   "metadata": {},
   "source": [
    "### Cantilever beam example\n",
    "\n",
    "Consider the following model of a cantilever beam:\n",
    "\n",
    "<center><img src=\"https://raw.githubusercontent.com/fmeer/public-files/main/5123/cantilever.png\" alt=\"cantilever beam\" width=\"300\"/></center>\n",
    "\n",
    "with $EI=2\\cdot 10^4\\,\\mathrm{Nm}^2$, $GA_\\mathrm{s} = 10^5\\,\\mathrm{N}$ and $P=1\\,\\mathrm{N}$.\n",
    "\n",
    "The goal here is to examine the response of the finite element solution by considering the vertical displacement $v_\\mathrm{p}$ under the point of application of the load $P$ and compare it with the analytical solution:\n",
    "\n",
    "$$v_\\mathrm{p}=\\frac{PL^3}{3EI}+\\frac{PL}{GA_\\mathrm{s}}$$\n",
    "\n",
    "Run the example with input file and mesh file given below and compare your results to the analytical solution."
   ]
  },
  {
   "cell_type": "code",
   "execution_count": null,
   "id": "adb30f49-9a44-4107-9eec-6ea29add85f9",
   "metadata": {
    "tags": []
   },
   "outputs": [],
   "source": [
    "props = pu.parse_file('timoshenko.pro')\n",
    "globdat = main.jive(props)"
   ]
  },
  {
   "cell_type": "markdown",
   "id": "ec32fefd-5295-4483-934e-d3f684c9f1c7",
   "metadata": {},
   "source": [
    "What is the end-displacement? The solution vector is stored in `globdat[gn.STATE0]`. This contains values for all DOFs. Investigate which entry is the displacement at the loaded point and compare it to the analytical solution.\n",
    "\n",
    "Can you also plot the displacement as function of $x$? And what about the rotations?"
   ]
  },
  {
   "cell_type": "code",
   "execution_count": null,
   "id": "fcfbfa21-5af1-49e1-8ec9-ef695bcdbcbe",
   "metadata": {},
   "outputs": [],
   "source": []
  },
  {
   "cell_type": "markdown",
   "id": "6a63a5b1-21e7-4ffe-9234-2914237868c8",
   "metadata": {},
   "source": [
    "### Mesh-refinement study\n",
    "\n",
    "Compare the end-displacement for different meshes. The comparisons should be made by producing numerical results with **1, 2, 4, 8, 16 and 32 elements** and drawing conclusions in terms of accuracy and convergence behavior for the two distinct scenarios below. "
   ]
  },
  {
   "cell_type": "code",
   "execution_count": null,
   "id": "c934f381-3c77-404e-b1c0-ed9bb69d8f94",
   "metadata": {},
   "outputs": [],
   "source": [
    "number_elements = [2,8]; # extend the list\n",
    "L = 10\n",
    "P = 1\n",
    "\n",
    "def mesher(L,n):\n",
    "    dx = L / n\n",
    "    with open('newmesh.mesh', 'w') as fmesh:\n",
    "        fmesh.write('nodes (ID, x, [y], [z])\\n')\n",
    "        for i in range(n + 1):\n",
    "            fmesh.write('%d %f\\n' % (i, i * dx))\n",
    "        fmesh.write('elements (node#1, node#2, [node#3, ...])\\n')\n",
    "        for i in range(n):\n",
    "            fmesh.write('%d %d\\n' % (i, i + 1))\n",
    "    return globdat   \n",
    "\n",
    "plt.figure()\n",
    "errors = []\n",
    "props['init']['mesh']['file'] = 'newmesh.mesh'\n",
    "EI = float(props['model']['timoshenko']['EI'])\n",
    "GA = float(props['model']['timoshenko']['GAs'])\n",
    "\n",
    "u_exact = P*L**3/3/EI + P*L/GA\n",
    "for ne in number_elements:\n",
    "    print('\\n\\nRunning model with',ne,'elements')\n",
    "    mesher(L,ne)\n",
    "    globdat = main.jive(props) \n",
    "    solution = globdat[gn.STATE0]\n",
    "    plt.plot(np.linspace(0,L,ne+1),solution[ne+1:],label=str(ne) + ' elements')\n",
    "    err = abs(globdat[gn.STATE0][-1]-u_exact)  # evaluate the error here\n",
    "    errors.append(err)\n",
    "\n",
    "plt.xlabel('Position [m]')\n",
    "plt.ylabel('Displacement [m]')\n",
    "plt.legend()\n",
    "plt.show()\n",
    "\n",
    "plt.figure()\n",
    "plt.loglog(number_elements,errors)\n",
    "plt.xlabel('Number of elements')\n",
    "plt.ylabel('Error [m]')\n",
    "plt.show()"
   ]
  },
  {
   "cell_type": "markdown",
   "id": "74c8855c",
   "metadata": {},
   "source": [
    "### Improve the convergence\n",
    "The analysis shown above suffers from shear locking. Recall from the lecture how this can be fixed and try to improve the convergence behavior of the beam. Repeat the mesh-refinement study with a modification to your model and compare the accuracy with the results above."
   ]
  },
  {
   "cell_type": "code",
   "execution_count": null,
   "id": "13775d1e-880d-4ffa-87d7-069d2d290508",
   "metadata": {},
   "outputs": [],
   "source": [
    "plt.figure()\n",
    "errors_new = []\n",
    "\n",
    "# your code here: add/modify to get better convergence\n",
    "plt.figure()\n",
    "EI = float(props['model']['timoshenko']['EI'])\n",
    "GA = float(props['model']['timoshenko']['GAs'])\n",
    "u_exact = P*L**3/3/EI + P*L/GA\n",
    "\n",
    "for ne in number_elements:\n",
    "    print('\\n\\nRunning model with',ne,'elements')\n",
    "    mesher(L,ne)\n",
    "    globdat = main.jive(props) \n",
    "    solution = globdat[gn.STATE0]\n",
    "    plt.plot(np.linspace(0,L,ne+1),solution[ne+1:],label=str(ne) + ' elements')\n",
    "    err = abs(globdat[gn.STATE0][-1]-u_exact)  # evaluate the error here\n",
    "    errors_new.append(err)\n",
    "\n",
    "plt.xlabel('Position [m]')\n",
    "plt.ylabel('Displacement [m]')\n",
    "plt.legend()\n",
    "plt.show()\n",
    "\n",
    "plt.figure()\n",
    "plt.loglog(number_elements,errors,label='old')\n",
    "plt.loglog(number_elements,errors_new,label='new')\n",
    "plt.xlabel('Number of elements')\n",
    "plt.ylabel('Error [m]')\n",
    "plt.legend()\n",
    "plt.show()"
   ]
  },
  {
   "cell_type": "code",
   "execution_count": null,
   "id": "fb473030-d95c-4e1b-aca6-9607c584e1a1",
   "metadata": {},
   "outputs": [],
   "source": []
  }
 ],
 "metadata": {
  "kernelspec": {
   "display_name": "Python 3 (ipykernel)",
   "language": "python",
   "name": "python3"
  },
  "language_info": {
   "codemirror_mode": {
    "name": "ipython",
    "version": 3
   },
   "file_extension": ".py",
   "mimetype": "text/x-python",
   "name": "python",
   "nbconvert_exporter": "python",
   "pygments_lexer": "ipython3",
   "version": "3.10.6"
  }
 },
 "nbformat": 4,
 "nbformat_minor": 5
}
