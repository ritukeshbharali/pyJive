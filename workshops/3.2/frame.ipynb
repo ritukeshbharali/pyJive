{
 "cells": [
  {
   "cell_type": "code",
   "execution_count": null,
   "id": "2e95ee22-111e-4405-97a0-89e7cd35ed9f",
   "metadata": {},
   "outputs": [],
   "source": [
    "import sys\n",
    "sys.path.append('../../')\n",
    "\n",
    "import matplotlib.pyplot as plt\n",
    "\n",
    "from utils import proputils as pu\n",
    "import main\n",
    "from names import GlobNames as gn\n",
    "\n",
    "%matplotlib tk"
   ]
  },
  {
   "cell_type": "markdown",
   "id": "301119da-5235-4e48-8c02-aa5fc4fdefae",
   "metadata": {},
   "source": [
    "### Simple frame analysis"
   ]
  },
  {
   "cell_type": "markdown",
   "id": "b01a646b-0666-4b67-af94-adf1fcea895a",
   "metadata": {},
   "source": [
    "We will run a simple frame with a point load. In the `frame.pro` file, postprocessing is also specified with the `FrameViewModule`."
   ]
  },
  {
   "cell_type": "code",
   "execution_count": null,
   "id": "3565a207-1684-4522-b8d6-df77bccc7bcc",
   "metadata": {},
   "outputs": [],
   "source": [
    "props = pu.parse_file('frame.pro')\n",
    "globdat = main.jive(props)\n"
   ]
  },
  {
   "cell_type": "markdown",
   "id": "looking-moisture",
   "metadata": {},
   "source": [
    "### Vierendeel beam\n",
    "Next, we perform analysis on a vierendeel beam"
   ]
  },
  {
   "cell_type": "code",
   "execution_count": null,
   "id": "successful-phrase",
   "metadata": {
    "scrolled": true
   },
   "outputs": [],
   "source": [
    "props = pu.parse_file('vierendeel.pro')\n",
    "globdat = main.jive(props)"
   ]
  },
  {
   "cell_type": "markdown",
   "id": "sensitive-grove",
   "metadata": {},
   "source": [
    "To inspect some more results, we can create a new `FrameViewModule` with properties that are defined in the notebook rather than in the `.pro` file. Below we will plot normal force and moment lines in the undeformed mesh. "
   ]
  },
  {
   "cell_type": "code",
   "execution_count": null,
   "id": "metallic-backing",
   "metadata": {},
   "outputs": [],
   "source": [
    "fv = globdat[gn.MODULEFACTORY].get_module('FrameView','fv')\n",
    "\n",
    "props['fv'] = {}\n",
    "props['fv']['plotStress'] = 'N'\n",
    "props['fv']['deform'] = '0'\n",
    "props['fv']['interactive'] = 'False'\n",
    "props['fv']['step0'] = 200\n",
    "\n",
    "fv.init(props, globdat)\n",
    "status = fv.run(globdat)\n",
    "fv.shutdown(globdat)\n",
    "\n",
    "props['fv']['plotStress'] = 'M'\n",
    "fv.init(props, globdat)\n",
    "status = fv.run(globdat)\n",
    "fv.shutdown(globdat)\n",
    "\n"
   ]
  },
  {
   "cell_type": "markdown",
   "id": "exclusive-philadelphia",
   "metadata": {},
   "source": [
    "We can also access loads or displaclement data for all time steps on nodegroups where this has been recorded as specified in the `loaddisp` section of the input file"
   ]
  },
  {
   "cell_type": "markdown",
   "id": "a085b432-5242-43fb-a066-609421e69875",
   "metadata": {},
   "source": [
    "### Set up the exercise geometry\n",
    "Next, define a set of input files (`.pro` and `.geom`) to perform linear analysis of the frame from the stability unit. \n",
    "\n",
    "<center><img src=\"https://raw.githubusercontent.com/fmeer/public-files/main/5123/stabilityFrame.png\" alt=\"beam\" width=\"250\"/></center>"
   ]
  },
  {
   "cell_type": "code",
   "execution_count": null,
   "id": "stock-joyce",
   "metadata": {},
   "outputs": [],
   "source": [
    "# your code here"
   ]
  }
 ],
 "metadata": {
  "kernelspec": {
   "display_name": "Python 3 (ipykernel)",
   "language": "python",
   "name": "python3"
  },
  "language_info": {
   "codemirror_mode": {
    "name": "ipython",
    "version": 3
   },
   "file_extension": ".py",
   "mimetype": "text/x-python",
   "name": "python",
   "nbconvert_exporter": "python",
   "pygments_lexer": "ipython3",
   "version": "3.10.6"
  }
 },
 "nbformat": 4,
 "nbformat_minor": 5
}
