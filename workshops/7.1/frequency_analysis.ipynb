{
 "cells": [
  {
   "cell_type": "markdown",
   "id": "0a32ce6d-0db8-44c9-9b0b-09879b22ad4c",
   "metadata": {},
   "source": [
    "<figure>\n",
    "  <IMG SRC=\"https://raw.githubusercontent.com/fmeer/public-files/main/TUlogo.png\" WIDTH=200 ALIGN=\"right\">\n",
    "</figure>\n",
    "\n",
    "# CIEM5110-2 Workshop 7.1: Frequency analysis\n",
    "    \n",
    "In this notebook, the `ModeShapeModule` is demonstrated. Two different cases are analyzed with the `FrameModel`. Finally, one case is setup with the `SolidModel`, but this one does not run properly. In this workshop, we aim to make it work. "
   ]
  },
  {
   "cell_type": "code",
   "execution_count": null,
   "id": "1c1c982a-3f5a-4f01-9d2a-f3e7a4a0530e",
   "metadata": {},
   "outputs": [],
   "source": [
    "import numpy as np\n",
    "import sys\n",
    "sys.path.append('../../')\n",
    "\n",
    "from utils import proputils as pu\n",
    "import main\n",
    "from names import GlobNames as gn\n",
    "\n",
    "%matplotlib widget"
   ]
  },
  {
   "cell_type": "markdown",
   "id": "73503ab5-1d4b-41f4-af25-b52c892fada4",
   "metadata": {},
   "source": [
    "### Case 1: Simply supported beam\n",
    "The first case is to do frequency analysis of a beam. The first eigenfrequency is reported in the text output of the simulation and multiple modes are visualized. Can you find in the code how to access the higher eigenfrequencies? Inputs are computed with $E=20$ GPa, $A=0.4$ m$^2$, $I=0.1333$ m^4, $\\rho=2500$ kg/m$^3$."
   ]
  },
  {
   "cell_type": "code",
   "execution_count": null,
   "id": "09aecd49-1dc7-4865-8cee-cef47a343630",
   "metadata": {},
   "outputs": [],
   "source": [
    "props = pu.parse_file('beam_frequency.pro')\n",
    "globdat = main.jive(props)\n"
   ]
  },
  {
   "cell_type": "markdown",
   "id": "7bff0773-e53a-4256-8d7d-1b2ec31c9c23",
   "metadata": {},
   "source": [
    "### Case 2: frame structure\n",
    "\n",
    "\n",
    "The next example is one of a frame structure. It uses the same model."
   ]
  },
  {
   "cell_type": "code",
   "execution_count": null,
   "id": "d9d6e324-c50c-47d2-902c-1c3c5c3c2bcb",
   "metadata": {},
   "outputs": [],
   "source": [
    "props = pu.parse_file('frame_frequency.pro')\n",
    "globdat = main.jive(props)\n"
   ]
  },
  {
   "cell_type": "markdown",
   "id": "0cd770db-5f81-4031-ac93-3f6e314c1a0c",
   "metadata": {},
   "source": [
    "### Case 3: Simply supported beam as solid\n",
    "Inputs are equivalent to those from Case 1, except the beam is modeled as a two-dimensional solid."
   ]
  },
  {
   "cell_type": "code",
   "execution_count": null,
   "id": "9f8a4f08-8563-4f41-a586-cc336f342733",
   "metadata": {},
   "outputs": [],
   "source": [
    "props = pu.parse_file('solid_frequency.pro')\n",
    "globdat = main.jive(props)\n"
   ]
  },
  {
   "cell_type": "code",
   "execution_count": null,
   "id": "280127a8-a235-4385-894a-dca92a0aaf2e",
   "metadata": {},
   "outputs": [],
   "source": []
  }
 ],
 "metadata": {
  "kernelspec": {
   "display_name": "Python 3 (ipykernel)",
   "language": "python",
   "name": "python3"
  },
  "language_info": {
   "codemirror_mode": {
    "name": "ipython",
    "version": 3
   },
   "file_extension": ".py",
   "mimetype": "text/x-python",
   "name": "python",
   "nbconvert_exporter": "python",
   "pygments_lexer": "ipython3",
   "version": "3.10.6"
  }
 },
 "nbformat": 4,
 "nbformat_minor": 5
}
