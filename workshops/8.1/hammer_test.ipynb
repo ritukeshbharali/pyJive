{
 "cells": [
  {
   "cell_type": "markdown",
   "id": "d36f341c-9c28-4db3-bbbc-73f718ad961f",
   "metadata": {},
   "source": [
    "## Preliminaries"
   ]
  },
  {
   "cell_type": "code",
   "execution_count": null,
   "id": "c796dda8-d59e-4009-bdf0-49c733c0cc52",
   "metadata": {
    "tags": []
   },
   "outputs": [],
   "source": [
    "import sys\n",
    "import numpy as np\n",
    "sys.path.append('../../')\n",
    "\n",
    "import utils.proputils as pu\n",
    "import main\n",
    "\n",
    "from matplotlib import pyplot as plt\n",
    "from names import GlobNames as gn"
   ]
  },
  {
   "cell_type": "markdown",
   "id": "de042132-00b5-45f9-b73c-73e49f81d644",
   "metadata": {},
   "source": [
    "## Compute natural frequencies, compare with experiments"
   ]
  },
  {
   "cell_type": "code",
   "execution_count": null,
   "id": "49a4d10d-7d90-4ea2-9084-bca0eae9d73b",
   "metadata": {
    "tags": []
   },
   "outputs": [],
   "source": []
  },
  {
   "cell_type": "markdown",
   "id": "ed6e4256",
   "metadata": {},
   "source": [
    "## Generate a force signal"
   ]
  },
  {
   "cell_type": "code",
   "execution_count": null,
   "id": "fdff232a-104f-4b0c-80c0-e6e432b37d31",
   "metadata": {},
   "outputs": [],
   "source": []
  },
  {
   "cell_type": "markdown",
   "id": "28cf2113-8747-4d58-a13f-3243ef063c39",
   "metadata": {},
   "source": [
    "## Implicit dynamics simulation"
   ]
  },
  {
   "cell_type": "code",
   "execution_count": null,
   "id": "28c0ed9c-039d-4635-b063-de6e15912963",
   "metadata": {
    "tags": []
   },
   "outputs": [],
   "source": [
    "props = pu.parse_file('beam.pro')\n",
    "\n",
    "#\n",
    "\n",
    "globdat = main.jive(props)"
   ]
  },
  {
   "cell_type": "markdown",
   "id": "b3e6ade9-eb22-4261-904c-006376fd9495",
   "metadata": {},
   "source": [
    "## Plot accelerations, compare with experiments"
   ]
  },
  {
   "cell_type": "code",
   "execution_count": null,
   "id": "a40fcf01-8971-4632-84b3-cb19679c19da",
   "metadata": {},
   "outputs": [],
   "source": []
  }
 ],
 "metadata": {
  "kernelspec": {
   "display_name": "Python 3 (ipykernel)",
   "language": "python",
   "name": "python3"
  },
  "language_info": {
   "codemirror_mode": {
    "name": "ipython",
    "version": 3
   },
   "file_extension": ".py",
   "mimetype": "text/x-python",
   "name": "python",
   "nbconvert_exporter": "python",
   "pygments_lexer": "ipython3",
   "version": "3.10.9"
  },
  "vscode": {
   "interpreter": {
    "hash": "2f56e53acab938e533261baa35aac2c581caa9f2f4a01ed69448e50e809c0ddc"
   }
  }
 },
 "nbformat": 4,
 "nbformat_minor": 5
}
