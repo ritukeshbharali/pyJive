{
 "cells": [
  {
   "cell_type": "markdown",
   "id": "f3b793cc-729a-4b32-aaf0-35c573cd2a18",
   "metadata": {},
   "source": [
    "<figure>\n",
    "  <IMG SRC=\"https://raw.githubusercontent.com/fmeer/public-files/main/TUlogo.png\" WIDTH=200 ALIGN=\"right\">\n",
    "</figure>\n",
    "\n",
    "# CIEM5110-2 Workshop 8.1: Hammer test"
   ]
  },
  {
   "cell_type": "markdown",
   "id": "d36f341c-9c28-4db3-bbbc-73f718ad961f",
   "metadata": {},
   "source": [
    "## Preliminaries"
   ]
  },
  {
   "cell_type": "code",
   "execution_count": 1,
   "id": "c796dda8-d59e-4009-bdf0-49c733c0cc52",
   "metadata": {
    "tags": []
   },
   "outputs": [
    {
     "name": "stderr",
     "output_type": "stream",
     "text": [
      "Matplotlib created a temporary config/cache directory at /tmp/matplotlib-lkehcx2p because the default path (/home/jovyan/.cache/matplotlib) is not a writable directory; it is highly recommended to set the MPLCONFIGDIR environment variable to a writable directory, in particular to speed up the import of Matplotlib and to better support multiprocessing.\n"
     ]
    }
   ],
   "source": [
    "import sys\n",
    "import numpy as np\n",
    "sys.path.append('../../')\n",
    "\n",
    "import utils.proputils as pu\n",
    "import main\n",
    "\n",
    "from matplotlib import pyplot as plt\n",
    "from names import GlobNames as gn\n",
    "\n",
    "%matplotlib widget"
   ]
  },
  {
   "cell_type": "markdown",
   "id": "de042132-00b5-45f9-b73c-73e49f81d644",
   "metadata": {},
   "source": [
    "## Compute natural frequencies, compare with experiments"
   ]
  },
  {
   "cell_type": "code",
   "execution_count": 2,
   "id": "49a4d10d-7d90-4ea2-9084-bca0eae9d73b",
   "metadata": {
    "tags": []
   },
   "outputs": [
    {
     "name": "stdout",
     "output_type": "stream",
     "text": [
      "Initializing module chain...\n",
      "InitModule: Creating DofSpace...\n",
      "InitModule: Reading geo mesh file rail.geom ...\n",
      "InitModule: Creating node groups...\n",
      "InitModule: Created group left with nodes [0]\n",
      "InitModule: Created group right with nodes [1]\n",
      "InitModule: Created group all with nodes [ 0  1  2  3  4  5  6  7  8  9 10 11 12 13 14 15 16]\n",
      "InitModule: Creating model...\n",
      "Creating Line2Shape...\n",
      "Running chain...\n",
      "ModeShapeModule: running eigenvalue problem...\n",
      "No Dirichlet BCs, three rigid body modes will be found\n",
      "ModeShapeModule: smallest natural frequency  2.0227e-04 rad / s\n"
     ]
    },
    {
     "name": "stderr",
     "output_type": "stream",
     "text": [
      "/opt/conda/lib/python3.10/site-packages/scipy/sparse/linalg/_eigen/arpack/arpack.py:1272: RuntimeWarning: k >= N - 1 for N * N square matrix. Attempting to use scipy.linalg.eig instead.\n",
      "  warnings.warn(\"k >= N - 1 for N * N square matrix. \"\n"
     ]
    },
    {
     "data": {
      "application/vnd.jupyter.widget-view+json": {
       "model_id": "2d8341c5b2b24ba6beff001ac4854841",
       "version_major": 2,
       "version_minor": 0
      },
      "image/png": "[encoded data removed]",
      "text/html": [
       "\n",
       "            <div style=\"display: inline-block;\">\n",
       "                <div class=\"jupyter-widgets widget-label\" style=\"text-align: center;\">\n",
       "                    Figure\n",
       "                </div>\n",
       "                <img src='data:image/png;base64,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' width=640.0/>\n",
       "            </div>\n",
       "        "
      ],
      "text/plain": [
       "Canvas(toolbar=Toolbar(toolitems=[('Home', 'Reset original view', 'home', 'home'), ('Back', 'Back to previous …"
      ]
     },
     "metadata": {},
     "output_type": "display_data"
    },
    {
     "name": "stdout",
     "output_type": "stream",
     "text": [
      "End of execution\n",
      "[3.21924011e-05+0.00000000e+00j 0.00000000e+00+4.09133976e-05j\n",
      " 5.84385682e-05+0.00000000e+00j 1.00683186e+02+0.00000000e+00j\n",
      " 2.79823436e+02+0.00000000e+00j 5.55998659e+02+0.00000000e+00j\n",
      " 7.96083998e+02+0.00000000e+00j 9.37406809e+02+0.00000000e+00j\n",
      " 1.43880522e+03+0.00000000e+00j 1.60776420e+03+0.00000000e+00j\n",
      " 2.08306687e+03+0.00000000e+00j 2.45188344e+03+0.00000000e+00j\n",
      " 2.90530610e+03+0.00000000e+00j 3.34799564e+03+0.00000000e+00j\n",
      " 3.95931287e+03+0.00000000e+00j 4.32033403e+03+0.00000000e+00j\n",
      " 5.32713886e+03+0.00000000e+00j 5.40073857e+03+0.00000000e+00j\n",
      " 6.63336322e+03+0.00000000e+00j 7.12726702e+03+0.00000000e+00j\n",
      " 8.08277647e+03+0.00000000e+00j 9.45964601e+03+0.00000000e+00j\n",
      " 9.84889162e+03+0.00000000e+00j 1.10097604e+04+0.00000000e+00j\n",
      " 1.11641239e+04+0.00000000e+00j 1.13049011e+04+0.00000000e+00j\n",
      " 1.17487663e+04+0.00000000e+00j 1.18400115e+04+0.00000000e+00j\n",
      " 1.20967298e+04+0.00000000e+00j 1.26597978e+04+0.00000000e+00j\n",
      " 1.27586098e+04+0.00000000e+00j 1.40310846e+04+0.00000000e+00j\n",
      " 1.42449832e+04+0.00000000e+00j 1.51218112e+04+0.00000000e+00j\n",
      " 1.62500031e+04+0.00000000e+00j 1.63100661e+04+0.00000000e+00j\n",
      " 1.95135486e+04+0.00000000e+00j 1.95369567e+04+0.00000000e+00j\n",
      " 1.97131352e+04+0.00000000e+00j 2.49198008e+04+0.00000000e+00j\n",
      " 2.60266156e+04+0.00000000e+00j 2.66453431e+04+0.00000000e+00j\n",
      " 3.45383326e+04+0.00000000e+00j 4.05337680e+04+0.00000000e+00j\n",
      " 4.06348614e+04+0.00000000e+00j 6.47165670e+04+0.00000000e+00j\n",
      " 8.20658067e+04+0.00000000e+00j 8.22280233e+04+0.00000000e+00j\n",
      " 0.00000000e+00+7.16291916e+11j 0.00000000e+00+9.38132122e+11j\n",
      " 1.05523257e+12+0.00000000e+00j]\n"
     ]
    }
   ],
   "source": [
    "E = 210e9\n",
    "rho = 7850\n",
    "L = 3.259\n",
    "I = 2337.9e-8\n",
    "Area = 69.77e-4\n",
    "\n",
    "nu = 0.3 # assumed\n",
    "\n",
    "props = pu.parse_file('beam.pro')\n",
    "\n",
    "props['init']['mesh']['file'] = 'rail.geom'\n",
    "\n",
    "props['model']['frame']['EA'] = E*Area\n",
    "props['model']['frame']['GAs'] = 5/6 * E/2/(1-nu) * Area\n",
    "props['model']['frame']['EI'] = E*I\n",
    "props['model']['frame']['rhoA'] = rho * Area\n",
    "props['model']['frame']['rhoI'] = rho * I\n",
    "\n",
    "props['stepper']['type'] = 'ModeShape'\n",
    "props['model']['models'] = '[frame]'\n",
    "\n",
    "props['frameview'] = {}\n",
    "props['frameview']['type'] = 'FrameView'\n",
    "props['frameview']['deform'] = 1\n",
    "props['frameview']['label'] = 'Mode'\n",
    "props['frameview']['plotDirichlet'] = 'False'\n",
    "props['frameview']['plotNeumann'] = 'False'\n",
    "\n",
    "del props['lodi']\n",
    "\n",
    "globdat = main.jive(props)\n",
    "print(globdat[gn.EIGENFREQS]/2/np.pi)"
   ]
  },
  {
   "cell_type": "markdown",
   "id": "4bc9aa4b-6ff3-43cd-b6ef-b98002f3eac3",
   "metadata": {},
   "source": [
    "## Generate a force signal"
   ]
  },
  {
   "cell_type": "code",
   "execution_count": 3,
   "id": "ab65df05-2481-4811-ac16-121fccc973fd",
   "metadata": {},
   "outputs": [],
   "source": [
    "import numpy as np\n",
    "import pandas as pd\n",
    "import matplotlib.pyplot as plt\n",
    "\n",
    "# Read the .csv file and store the data in a data frame. Use 'sep' argument to define the column separators, 'skiprows' to skip the first four rows, 'decimal' to define the decimal separator. \n",
    "data_pos35_df = pd.read_csv(\"example_pos35.csv\",sep = \";\",skiprows = 4, decimal = \",\")\n",
    "data_pos35 = data_pos35_df.to_numpy()\n",
    "\n",
    "# Define a trigger force of 5 N\n",
    "force_trigger = 5\n",
    "\n",
    "# Get the boolean indices of the forces that are larger than the trigger force\n",
    "idx_boolean = data_pos35[:,1] > force_trigger\n",
    "\n",
    "# Find the indices of triggered forces\n",
    "idx_triggered = np.where(idx_boolean)[0]\n",
    "\n",
    "# Define a rectangular window\n",
    "rec_win = np.zeros(len(data_pos35[:,1]))\n",
    "rec_win[idx_triggered,] = 1\n",
    "f_max_windowed = np.multiply(data_pos35[:,1], rec_win)\n",
    "\n",
    "# Truncate the signal 10 samples before the first index of the triggered force\n",
    "f_max_truncated = f_max_windowed[idx_triggered[0]-10:,]\n",
    "acc_max_truncated = data_pos35[idx_triggered[0]-10:,5]\n",
    "\n",
    "# Truncate the end of the time series\n",
    "maxstep = 20000\n",
    "\n",
    "f_max_truncated = f_max_truncated[:maxstep]\n",
    "acc_max_truncated = acc_max_truncated[:maxstep]\n",
    "\n",
    "# Get delta time\n",
    "dt = data_pos35[1,0]-data_pos35[0,0]\n",
    "\n",
    "# Write force signal to a file\n",
    "np.savetxt('signal.dat',f_max_truncated)"
   ]
  },
  {
   "cell_type": "markdown",
   "id": "28cf2113-8747-4d58-a13f-3243ef063c39",
   "metadata": {},
   "source": [
    "## Implicit dynamics simulation"
   ]
  },
  {
   "cell_type": "code",
   "execution_count": 4,
   "id": "28c0ed9c-039d-4635-b063-de6e15912963",
   "metadata": {
    "tags": []
   },
   "outputs": [
    {
     "name": "stdout",
     "output_type": "stream",
     "text": [
      "Initializing module chain...\n",
      "InitModule: Creating DofSpace...\n",
      "InitModule: Reading geo mesh file rail.geom ...\n",
      "InitModule: Creating node groups...\n",
      "InitModule: Created group right with nodes [1]\n",
      "InitModule: Created group mid with nodes [9]\n",
      "InitModule: Creating model...\n",
      "Creating Line2Shape...\n",
      "Running chain...\n",
      "Running time step 0\n",
      "Running time step 200\n",
      "Running time step 400\n",
      "Running time step 600\n",
      "Running time step 800\n",
      "Running time step 1000\n",
      "Running time step 1200\n",
      "Running time step 1400\n",
      "Running time step 1600\n",
      "Running time step 1800\n",
      "Running time step 2000\n",
      "Running time step 2200\n",
      "Running time step 2400\n",
      "Running time step 2600\n",
      "Running time step 2800\n",
      "Running time step 3000\n",
      "Running time step 3200\n",
      "Running time step 3400\n",
      "Running time step 3600\n",
      "Running time step 3800\n",
      "Running time step 4000\n",
      "Running time step 4200\n",
      "Running time step 4400\n",
      "Running time step 4600\n",
      "Running time step 4800\n",
      "Running time step 5000\n",
      "Running time step 5200\n",
      "Running time step 5400\n",
      "Running time step 5600\n",
      "Running time step 5800\n",
      "Running time step 6000\n",
      "Running time step 6200\n",
      "Running time step 6400\n",
      "Running time step 6600\n",
      "Running time step 6800\n",
      "Running time step 7000\n",
      "Running time step 7200\n",
      "Running time step 7400\n",
      "Running time step 7600\n",
      "Running time step 7800\n",
      "Running time step 8000\n",
      "Running time step 8200\n",
      "Running time step 8400\n",
      "Running time step 8600\n",
      "Running time step 8800\n",
      "Running time step 9000\n",
      "Running time step 9200\n",
      "Running time step 9400\n",
      "Running time step 9600\n",
      "Running time step 9800\n",
      "Running time step 10000\n",
      "Running time step 10200\n",
      "Running time step 10400\n",
      "Running time step 10600\n",
      "Running time step 10800\n",
      "Running time step 11000\n",
      "Running time step 11200\n",
      "Running time step 11400\n",
      "Running time step 11600\n",
      "Running time step 11800\n",
      "Running time step 12000\n",
      "Running time step 12200\n",
      "Running time step 12400\n",
      "Running time step 12600\n",
      "Running time step 12800\n",
      "Running time step 13000\n",
      "Running time step 13200\n",
      "Running time step 13400\n",
      "Running time step 13600\n",
      "Running time step 13800\n",
      "Running time step 14000\n",
      "Running time step 14200\n",
      "Running time step 14400\n",
      "Running time step 14600\n",
      "Running time step 14800\n",
      "Running time step 15000\n",
      "Running time step 15200\n",
      "Running time step 15400\n",
      "Running time step 15600\n",
      "Running time step 15800\n",
      "Running time step 16000\n",
      "Running time step 16200\n",
      "Running time step 16400\n",
      "Running time step 16600\n",
      "Running time step 16800\n",
      "Running time step 17000\n",
      "Running time step 17200\n",
      "Running time step 17400\n",
      "Running time step 17600\n",
      "Running time step 17800\n",
      "Running time step 18000\n",
      "Running time step 18200\n",
      "Running time step 18400\n",
      "Running time step 18600\n",
      "Running time step 18800\n",
      "Running time step 19000\n",
      "Running time step 19200\n",
      "Running time step 19400\n",
      "Running time step 19600\n",
      "Running time step 19800\n",
      "End of execution\n"
     ]
    }
   ],
   "source": [
    "props = pu.parse_file('beam.pro')\n",
    "\n",
    "props['init']['mesh']['file'] = 'rail.geom'\n",
    "props['init']['nodeGroups'] = '[right,mid]'\n",
    "props['init']['mid'] = {}\n",
    "props['init']['mid']['xtype'] = 'mid'\n",
    "\n",
    "props['model']['models'] = '[frame, neum]'\n",
    "\n",
    "props['model']['neum']['groups'] = '[right]'\n",
    "props['model']['neum']['dofs'] = '[dy]'\n",
    "props['model']['neum']['values'] = '[-1]'\n",
    "props['model']['neum']['timeSignal'] = 'signal.dat'\n",
    "\n",
    "props['model']['frame']['EA'] = E*Area\n",
    "props['model']['frame']['GAs'] = 5/6 * E/2/(1-nu) * Area\n",
    "props['model']['frame']['EI'] = E*I\n",
    "props['model']['frame']['rhoA'] = rho * Area\n",
    "props['model']['frame']['rhoI'] = rho * I\n",
    "\n",
    "props['stepper']['deltaTime'] = dt\n",
    "props['stepper']['nsteps'] = maxstep\n",
    "props['stepper']['gamma'] = 0.501\n",
    "props['stepper']['beta'] = 0.26\n",
    "\n",
    "props['accel'] = {}\n",
    "props['accel']['type'] = 'Acceleration'\n",
    "props['accel']['groups'] = '[mid]'\n",
    "\n",
    "del props['frameview']\n",
    "del props['lodi']\n",
    "\n",
    "globdat = main.jive(props)"
   ]
  },
  {
   "cell_type": "markdown",
   "id": "b3e6ade9-eb22-4261-904c-006376fd9495",
   "metadata": {},
   "source": [
    "## Plot accelerations, compare with experiments"
   ]
  },
  {
   "cell_type": "code",
   "execution_count": 5,
   "id": "a40fcf01-8971-4632-84b3-cb19679c19da",
   "metadata": {},
   "outputs": [
    {
     "data": {
      "application/vnd.jupyter.widget-view+json": {
       "model_id": "89ca6084cff748c1859e4e36551f7d8e",
       "version_major": 2,
       "version_minor": 0
      },
      "image/png": "[encoded data removed]",
      "text/html": [
       "\n",
       "            <div style=\"display: inline-block;\">\n",
       "                <div class=\"jupyter-widgets widget-label\" style=\"text-align: center;\">\n",
       "                    Figure\n",
       "                </div>\n",
       "                <img src='data:image/png;base64,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' width=640.0/>\n",
       "            </div>\n",
       "        "
      ],
      "text/plain": [
       "Canvas(toolbar=Toolbar(toolitems=[('Home', 'Reset original view', 'home', 'home'), ('Back', 'Back to previous …"
      ]
     },
     "metadata": {},
     "output_type": "display_data"
    }
   ],
   "source": [
    "time = np.linspace(0,maxstep*dt,maxstep)\n",
    "\n",
    "accel_mid = globdat['accel']['mid']['accel']['dy']\n",
    "\n",
    "plt.figure()\n",
    "\n",
    "plt.plot(time,9.81*acc_max_truncated)\n",
    "plt.plot(time,accel_mid)\n",
    "plt.show()"
   ]
  },
  {
   "cell_type": "code",
   "execution_count": null,
   "id": "e1c932d7-e72d-4790-bbb6-6bda957952ad",
   "metadata": {},
   "outputs": [],
   "source": []
  }
 ],
 "metadata": {
  "kernelspec": {
   "display_name": "Python 3 (ipykernel)",
   "language": "python",
   "name": "python3"
  },
  "language_info": {
   "codemirror_mode": {
    "name": "ipython",
    "version": 3
   },
   "file_extension": ".py",
   "mimetype": "text/x-python",
   "name": "python",
   "nbconvert_exporter": "python",
   "pygments_lexer": "ipython3",
   "version": "3.10.9"
  },
  "vscode": {
   "interpreter": {
    "hash": "2f56e53acab938e533261baa35aac2c581caa9f2f4a01ed69448e50e809c0ddc"
   }
  }
 },
 "nbformat": 4,
 "nbformat_minor": 5
}
