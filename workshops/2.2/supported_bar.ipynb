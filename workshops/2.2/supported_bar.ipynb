{
 "cells": [
  {
   "cell_type": "markdown",
   "id": "6d07b694-92c5-4352-9f23-047f3341f833",
   "metadata": {},
   "source": [
    "<figure>\n",
    "  <IMG SRC=\"https://raw.githubusercontent.com/fmeer/public-files/main/TUlogo.png\" WIDTH=200 ALIGN=\"right\">\n",
    "</figure>\n",
    "\n",
    "# CIEM5110 Workshop 1: Introduction to pyJive"
   ]
  },
  {
   "cell_type": "markdown",
   "id": "f1739bf8-fe66-4542-b234-ac5846c09079",
   "metadata": {},
   "source": [
    "## Exercise: Bar with elastic support\n",
    "Here we consider the same elastically supported bar you have seen previously in MUDE:\n",
    "\n",
    "<center><img src=\"https://raw.githubusercontent.com/ibcmrocha/public/main/supportedbar.png\" alt=\"beam\" width=\"400\"/></center>\n",
    "\n",
    "but here we ignore body loads and set $EA=10$. We would now like to solve this problem with pyJive.\n",
    "\n",
    "Following the derivation in the MUDE notebook and referring to the code in `models/barmodel.py`, the original `BarModel` is missing part of its stiffness matrix, related to the support stiffness $k$:\n",
    "\n",
    "$$ \\mathbf{K} = \\int \\mathbf{B}^TEA\\mathbf{B}\\,dx + \\int \\mathbf{N}^Tk\\mathbf{N}\\,dx $$,\n",
    "\n",
    "where the first part is already in `BarModel`. Our goal here is to **implement the second part** and perform a **mesh convergence study** by comparing FEM results with the analytical solution above."
   ]
  },
  {
   "cell_type": "markdown",
   "id": "07d44ec7-d847-4450-b3b9-016954ccddbb",
   "metadata": {},
   "source": [
    "### Implement the stiffness matrix\n",
    "To add functionality to the existing `BarModel`, we define a derived class here. We can make clever use of OOP by first letting the original `BarModel` assemble the first part of the stiffness and using our new class to compute only the second part. \n",
    "\n",
    "When inheriting from a base class, all members of the new class that are also in the base class get overwritten. However, we can still call the original methods by using `super()`. In the code below, you can see we call `super().configure(props,globdat)` to call the original `configure` method in `BarModel`. With this, `BarModel` reads the $EA$ parameter for us, and we then only need to read $k$.\n",
    "\n",
    "Look at the derived class below. Your task is to add the new contribution related to $k$:\n",
    "\n",
    "$$ \\mathbf{K} = \\mathbf{K}_\\mathrm{super} + \\mathbf{K}_k $$\n",
    "\n",
    "**TIP**: Refer to how $\\mathbf{K}_\\mathrm{super}$ is assembled by looking at the `_get_matrix()` method of `models/barmodel.py`. Relate this to the story about numerical integration from MUDE."
   ]
  },
  {
   "cell_type": "code",
   "execution_count": null,
   "id": "659ee4b3-2552-450b-8a67-dcc373f6e28a",
   "metadata": {},
   "outputs": [],
   "source": [
    "import sys\n",
    "sys.path.append('../../')\n",
    "\n",
    "from models.barmodel import *\n",
    "\n",
    "K = 'k'\n",
    "\n",
    "class SupportedBarModel(BarModel):\n",
    "\n",
    "    def configure(self, props, globdat):\n",
    "        super().configure(props, globdat)\n",
    "        self._k = float(props[K])\n",
    "\n",
    "    def _get_matrix(self, params, globdat):\n",
    "        # Add K_super\n",
    "        super()._get_matrix(params,globdat)\n",
    "        \n",
    "        # Add the continuous support contribution\n",
    "        k = np.array([[self._k]])\n",
    "        for elem in self._elems:\n",
    "            inodes = elem.get_nodes()\n",
    "            idofs = globdat[gn.DOFSPACE].get_dofs(inodes, DOFTYPES[0:self._rank])\n",
    "            coords = np.stack([globdat[gn.NSET][i].get_coords() for i in inodes], axis=1)[0:self._rank, :]\n",
    "            sfuncs = self._shape.get_shape_functions()\n",
    "            weights = self._shape.get_integration_weights(coords)\n",
    "\n",
    "            elmat = np.zeros((self._dofcount, self._dofcount))\n",
    "            for ip in range(self._ipcount):\n",
    "                N = np.zeros((1, self._nodecount))\n",
    "                N[0, :] = sfuncs[:, ip].transpose()\n",
    "                \n",
    "                # elmat += ???\n",
    "\n",
    "            params[pn.MATRIX0][np.ix_(idofs, idofs)] += elmat\n",
    "\n",
    "def declare(factory):\n",
    "    factory.declare_model('SupportedBar', SupportedBarModel)"
   ]
  },
  {
   "cell_type": "markdown",
   "id": "bb7a8f3c-ca7a-46bb-9148-3c29e230ccca",
   "metadata": {},
   "source": [
    "We now read the input files and change a few things:"
   ]
  },
  {
   "cell_type": "code",
   "execution_count": null,
   "id": "2b84cb10-aa50-4bd5-a6b7-ee4d28893f4d",
   "metadata": {},
   "outputs": [],
   "source": [
    "import matplotlib.pyplot as plt\n",
    "\n",
    "from utils import proputils as pu\n",
    "import main\n",
    "from names import GlobNames as gn\n",
    "\n",
    "props = pu.parse_file('bar.pro')\n",
    "\n",
    "props['model']['bar']['type'] = 'SupportedBar'"
   ]
  },
  {
   "cell_type": "markdown",
   "id": "3697ffa3-472c-41ea-89bf-4c2a8ce72f8c",
   "metadata": {},
   "source": [
    "Now look at the figure above and check again what is in `bar.pro` and make all the relevant properties match. You can either do it by modifying `props` in the block below or by directly changing `bar.pro`"
   ]
  },
  {
   "cell_type": "code",
   "execution_count": null,
   "id": "ad739ad9-04dd-4844-b132-3b25bdbe7b84",
   "metadata": {},
   "outputs": [],
   "source": []
  },
  {
   "cell_type": "markdown",
   "id": "18a0d649-67a4-439f-9036-4bb34cf6bb2e",
   "metadata": {},
   "source": [
    "### Run the analysis and check the output\n",
    "\n",
    "Now, you can run the new model. Because we have defined a new model in the notebook, we have to declare this one manually and create the `globdat` object before we call `main.jive`"
   ]
  },
  {
   "cell_type": "code",
   "execution_count": null,
   "id": "61a2a36f-d8ef-4be3-b64c-219dff3af326",
   "metadata": {},
   "outputs": [],
   "source": [
    "import declare\n",
    "\n",
    "globdat = {}\n",
    "\n",
    "# default declaration\n",
    "\n",
    "declare.declare_models(globdat)\n",
    "declare.declare_modules(globdat)\n",
    "declare.declare_shapes(globdat)\n",
    "    \n",
    "# Additional declaration of model defined in the notebook\n",
    "    \n",
    "factory = globdat[gn.MODELFACTORY]\n",
    "factory.declare_model('SupportedBar',SupportedBarModel)\n",
    "    \n",
    "globdat = main.jive(props, globdat)"
   ]
  },
  {
   "cell_type": "markdown",
   "id": "3b00a227-0ce7-45e9-adc2-9627bdcfb114",
   "metadata": {},
   "source": [
    "Because of the distributed supports, it is interesting to plot the displacement field here:"
   ]
  },
  {
   "cell_type": "code",
   "execution_count": null,
   "id": "084e2519-1ca4-4142-a24b-9f1eafda1916",
   "metadata": {},
   "outputs": [],
   "source": [
    "u = globdat[gn.STATE0]\n",
    "print(u)\n",
    "\n",
    "plt.plot(np.linspace(0,3,4),u)"
   ]
  },
  {
   "cell_type": "markdown",
   "id": "f2e52fd5-e26f-450b-abf2-e92f11c5b8d1",
   "metadata": {},
   "source": [
    "### Perform a mesh refinement study\n",
    "\n",
    "But how can we know this solution makes any sense? We can try meshes with different numbers of elements and get an idea of how sensitive the solution is to further mesh discretization:"
   ]
  },
  {
   "cell_type": "code",
   "execution_count": null,
   "id": "f9c0f157-066b-44bb-af65-8cd5d956e859",
   "metadata": {},
   "outputs": [],
   "source": [
    "# Add more meshes here!\n",
    "number_elements = [3];\n",
    "\n",
    "def mesher(n):\n",
    "    dx = 3.0 / n\n",
    "    with open('newmesh.mesh', 'w') as fmesh:\n",
    "        fmesh.write('nodes (ID, x, [y], [z])\\n')\n",
    "        for i in range(n + 1):\n",
    "            fmesh.write('%d %f\\n' % (i, i * dx))\n",
    "        fmesh.write('elements (node#1, node#2, [node#3, ...])\\n')\n",
    "        for i in range(n):\n",
    "            fmesh.write('%d %d\\n' % (i, i + 1))\n",
    "\n",
    "def run_model(props):            \n",
    "    globdat = {}\n",
    "    \n",
    "    declare.declare_models(globdat)\n",
    "    declare.declare_modules(globdat)\n",
    "    declare.declare_shapes(globdat)\n",
    "    \n",
    "    factory = globdat[gn.MODELFACTORY]\n",
    "    factory.declare_model('SupportedBar',SupportedBarModel)\n",
    "\n",
    "    globdat = main.jive(props, globdat) \n",
    "    \n",
    "    return globdat   \n",
    "\n",
    "plt.figure()\n",
    "for ne in number_elements:\n",
    "    print('\\n\\nRunning model with',ne,'elements')\n",
    "    mesher(ne)\n",
    "    props['init']['mesh']['file'] = 'newmesh.mesh'\n",
    "    globdat = run_model(props)\n",
    "    stiff = globdat[gn.MATRIX0]\n",
    "    solution = globdat[gn.STATE0]\n",
    "    plt.plot(np.linspace(0,3,ne+1),solution,label=str(ne) + ' elements')\n",
    "\n",
    "plt.xlabel('Position [m]')\n",
    "plt.ylabel('Displacement [m]')\n",
    "plt.legend()\n",
    "plt.show()"
   ]
  },
  {
   "cell_type": "markdown",
   "id": "cbe9d9e8-80ce-43dd-892c-a9e1d114adbd",
   "metadata": {},
   "source": [
    "What conclusions can you take? How many elements are enough for this problem?"
   ]
  }
 ],
 "metadata": {
  "kernelspec": {
   "display_name": "Python 3 (ipykernel)",
   "language": "python",
   "name": "python3"
  },
  "language_info": {
   "codemirror_mode": {
    "name": "ipython",
    "version": 3
   },
   "file_extension": ".py",
   "mimetype": "text/x-python",
   "name": "python",
   "nbconvert_exporter": "python",
   "pygments_lexer": "ipython3",
   "version": "3.9.10"
  }
 },
 "nbformat": 4,
 "nbformat_minor": 5
}
