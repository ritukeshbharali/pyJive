{
 "cells": [
  {
   "cell_type": "markdown",
   "id": "8245e395-352e-4ec1-ae07-dabea68abce5",
   "metadata": {
    "tags": []
   },
   "source": [
    "<figure>\n",
    "  <IMG SRC=\"https://raw.githubusercontent.com/fmeer/public-files/main/TUlogo.png\" WIDTH=200 ALIGN=\"right\">\n",
    "</figure>\n",
    "\n",
    "# CIEM5110 Workshop 1: Introduction to pyJive"
   ]
  },
  {
   "cell_type": "markdown",
   "id": "b2e1120a-28de-41f1-ab60-9edde0598001",
   "metadata": {},
   "source": [
    "## Preliminaries\n",
    "\n",
    "To start working, we add the main pyJive folder to `path` and make some imports. Notice how we access nested pyJive components:"
   ]
  },
  {
   "cell_type": "code",
   "execution_count": null,
   "id": "debaab55-2b58-4a4b-8bb7-c74f51581418",
   "metadata": {},
   "outputs": [],
   "source": [
    "import sys\n",
    "sys.path.append('../../')\n",
    "\n",
    "import matplotlib.pyplot as plt\n",
    "\n",
    "from utils import proputils as pu\n",
    "import main\n",
    "from names import GlobNames as gn"
   ]
  },
  {
   "cell_type": "markdown",
   "id": "42ef89b1-43fe-4dce-a879-ada50070b5ec",
   "metadata": {},
   "source": [
    "## Running a simple bar model\n",
    "\n",
    "To start off, we run the following simple bar problem:\n",
    "\n",
    "<center>\n",
    "  <figure>\n",
    "    <IMG SRC=\"https://raw.githubusercontent.com/ibcmrocha/public/main/3elmbar.png\" WIDTH=300>\n",
    "  </figure>\n",
    "</center>\n",
    "    \n",
    "We have a `bar.pro` file ready that describes this model. Take a look at it and try to see how things are being set up.\n",
    "    \n",
    "We now use pyJive to run it as is:"
   ]
  },
  {
   "cell_type": "code",
   "execution_count": null,
   "id": "72c01e54-2e0b-4774-8027-c10fe3c7b73f",
   "metadata": {},
   "outputs": [],
   "source": [
    "props = pu.parse_file('bar.pro')\n",
    "\n",
    "globdat = main.jive(props)"
   ]
  },
  {
   "cell_type": "markdown",
   "id": "123949a9-e268-427f-abd2-8f8a181fa850",
   "metadata": {},
   "source": [
    "We can then use `globdat` to interact with model results. For instance, we can look at the nodal displacement values:"
   ]
  },
  {
   "cell_type": "code",
   "execution_count": null,
   "id": "e6cc8f2b-2894-47af-b5d0-4e7fd5a48981",
   "metadata": {},
   "outputs": [],
   "source": [
    "print(globdat[gn.STATE0])"
   ]
  },
  {
   "cell_type": "markdown",
   "id": "415ae8ab-da8f-45fc-a93d-4742c0d1a972",
   "metadata": {},
   "source": [
    "Do these values make sense? Check `bar.pro` and `bar.mesh` to see which values are used and try to derive a solution for this problem by hand."
   ]
  },
  {
   "cell_type": "markdown",
   "id": "ce63a5f4-5e25-4650-8aa5-aae246d59b60",
   "metadata": {},
   "source": [
    "## Changing the model on the fly\n",
    "\n",
    "We can look at what `parse_file` read from `bar.pro`, make modifications and run the model again:"
   ]
  },
  {
   "cell_type": "code",
   "execution_count": null,
   "id": "af3a61b1-222e-4065-a44d-663b25236081",
   "metadata": {},
   "outputs": [],
   "source": [
    "props['model']['bar']['EA'] = 1000\n",
    "\n",
    "globdat = main.jive(props)\n",
    "\n",
    "print(globdat[gn.STATE0])"
   ]
  },
  {
   "cell_type": "markdown",
   "id": "fedf0cc5-8784-4576-95a0-b17efd9064b2",
   "metadata": {},
   "source": [
    "Do these new results make sense? **Now try this yourself**:\n",
    "- Change the Dirichlet boundary condition on the left from $0$ to $1$\n",
    "- Change the Neumann boundary condition on the right from $1$ to $10$\n",
    "\n",
    "and rerun the model. Use the code block below for this:"
   ]
  },
  {
   "cell_type": "code",
   "execution_count": null,
   "id": "436de02b-1503-429d-a291-83c1e694ca60",
   "metadata": {},
   "outputs": [],
   "source": []
  },
  {
   "cell_type": "markdown",
   "id": "71305547-aa06-4b8e-8f16-afe16096e954",
   "metadata": {},
   "source": [
    "We can make use of `DofSpace` to directly look at the displacement at a certain node, e.g. at the right-end node:"
   ]
  },
  {
   "cell_type": "code",
   "execution_count": null,
   "id": "60e20a5a-cd44-457a-98e2-fd9cb39bf3f8",
   "metadata": {},
   "outputs": [],
   "source": [
    "node = globdat[gn.NGROUPS]['right'][0]\n",
    "dof = globdat[gn.DOFSPACE].get_dof(node,'dx')\n",
    "\n",
    "print('Displacement of node',node,'with DOF index',dof,':',globdat[gn.STATE0][dof])"
   ]
  },
  {
   "cell_type": "markdown",
   "id": "dd324eec-0f30-4292-a914-f37b35259676",
   "metadata": {},
   "source": [
    "## Using OOP to our advantage\n",
    "\n",
    "With the object-oriented structure of pyJive, we can use inheritance to extend functionality with minimum effort. Let us create a new `BarModel` that does some extra printing for us:"
   ]
  },
  {
   "cell_type": "code",
   "execution_count": null,
   "id": "dcd30328-e790-454c-8134-4586c7b7e54f",
   "metadata": {},
   "outputs": [],
   "source": [
    "from models.barmodel import *\n",
    "\n",
    "class MyBarModel(BarModel):\n",
    "    def _get_matrix(self, params, globdat):\n",
    "        D = np.array([[self._EA]])\n",
    "        for elem in self._elems:\n",
    "            # Get the nodal coordinates of each element\n",
    "            inodes = elem.get_nodes()\n",
    "            idofs = globdat[gn.DOFSPACE].get_dofs(inodes, DOFTYPES[0:self._rank])\n",
    "            coords = np.stack([globdat[gn.NSET][i].get_coords() for i in inodes], axis=1)[0:self._rank, :]\n",
    "\n",
    "            # Get the shape functions, gradients and weights of each integration point\n",
    "            sfuncs = self._shape.get_shape_functions()\n",
    "            grads, weights = self._shape.get_shape_gradients(coords)\n",
    "\n",
    "            # Reset the element stiffness matrix\n",
    "            elmat = np.zeros((self._dofcount, self._dofcount))\n",
    "            \n",
    "            for ip in range(self._ipcount):\n",
    "                # Get the B matrix for each integration point\n",
    "                B = np.zeros((1, self._nodecount))\n",
    "                B[0, :] = grads[:, :, ip].transpose()\n",
    "\n",
    "                # Compute the element stiffness matrix\n",
    "                elmat += weights[ip] * np.matmul(np.transpose(B), np.matmul(D, B))\n",
    "\n",
    "            # Add the element stiffness matrix to the global stiffness matrix\n",
    "            params[pn.MATRIX0][np.ix_(idofs, idofs)] += elmat\n",
    "            print('\\nElement with nodes',inodes,'B matrix',B,'\\n Stiffness matrix:\\n',elmat,'\\n')\n",
    "          \n",
    "            plt.imshow(params[pn.MATRIX0],vmin=-1.,vmax=2.,origin='upper')\n",
    "            plt.xticks([0, 1, 2, 3])\n",
    "            plt.yticks([0, 1, 2, 3])\n",
    "            plt.show()\n",
    "            plt.figure()           "
   ]
  },
  {
   "cell_type": "markdown",
   "id": "2511a01a-f74a-4639-a6c4-6df5302afdbb",
   "metadata": {},
   "source": [
    "We now tell `props` that we want to use the new model:"
   ]
  },
  {
   "cell_type": "code",
   "execution_count": null,
   "id": "789ca19e-dc8d-4410-867d-bcbb9e49166f",
   "metadata": {},
   "outputs": [],
   "source": [
    "props = pu.parse_file('bar.pro')\n",
    "props['model']['bar']['type'] = 'MyBar'"
   ]
  },
  {
   "cell_type": "markdown",
   "id": "8bad9a41-8c6a-4bc3-adb7-0d1163b4d116",
   "metadata": {},
   "source": [
    "We need to take one more step to let the program know about the existence of the `MyBarModel` we just created. In order to be able to add new models without having to touch the existing code anywhere, we make use of the so-called **factory** pattern. The factory pattern allows for using a string as input to define which object needs to be created. For this to work, we do need to tell the factory which types exist. For the existing models, modules and element types this is done in the `declare_models`, `declare_modules` and `declare_shapes` functions at the beginning of `main.jive`. If we pre-define the factory in the notebook, we can declare the model that we have just created to the factory and pass this on to `main.jive`. "
   ]
  },
  {
   "cell_type": "code",
   "execution_count": null,
   "id": "54b337f8-e953-4e86-896a-4bedf5dbbe44",
   "metadata": {},
   "outputs": [],
   "source": [
    "import declare\n",
    "\n",
    "globdat = {}\n",
    "\n",
    "# default declaration\n",
    "\n",
    "declare.declare_models(globdat)\n",
    "declare.declare_modules(globdat)\n",
    "declare.declare_shapes(globdat)\n",
    "    \n",
    "# Additional declaration of model defined in the notebook\n",
    "    \n",
    "factory = globdat[gn.MODELFACTORY]\n",
    "factory.declare_model('MyBar',MyBarModel)"
   ]
  },
  {
   "cell_type": "markdown",
   "id": "ba85c496-22d7-44c5-a39f-3e5328a221c2",
   "metadata": {},
   "source": [
    "Finally, we call Jive. Keep an eye on the output!"
   ]
  },
  {
   "cell_type": "code",
   "execution_count": null,
   "id": "0d3ee9b8-084b-4ef4-9585-7741346c7caf",
   "metadata": {},
   "outputs": [],
   "source": [
    "globdat = main.jive(props, globdat)"
   ]
  },
  {
   "cell_type": "markdown",
   "id": "93ac9cd0-bfbf-4a54-832e-de0aea70bbca",
   "metadata": {},
   "source": [
    "## Experimenting with models\n",
    "\n",
    "Let us now build a very simple new model to understand how `models` and `modules` interact during a simulation.\n",
    "\n",
    "**Do this yourself**: Use the shell below to print every action that reaches this model.\n",
    "\n",
    "Note that our new model has no other functionality. But that agrees with the idea behind `take_action`: all models see all action calls and should ignore the ones it cannot answer."
   ]
  },
  {
   "cell_type": "code",
   "execution_count": null,
   "id": "60db430d-8144-4bd2-9cd3-3e34a8ebc3e5",
   "metadata": {},
   "outputs": [],
   "source": [
    "from models.model import Model\n",
    "\n",
    "class PrintModel (Model):\n",
    "    def take_action (self,action,params,globdat):\n",
    "        # print here which action is being called and which\n",
    "        # params are being given\n",
    "        pass"
   ]
  },
  {
   "cell_type": "markdown",
   "id": "638fa0a6-a43f-40e7-bfb7-e19c3215ef6b",
   "metadata": {},
   "source": [
    "We now add this model to our list of models, declare it and re-run the simulation:"
   ]
  },
  {
   "cell_type": "code",
   "execution_count": null,
   "id": "d6c19529-6821-4f02-b4bd-a23354b665e8",
   "metadata": {},
   "outputs": [],
   "source": [
    "props = pu.parse_file('bar.pro')\n",
    "\n",
    "props['model']['models'] = ['bar','diri','neum','print']\n",
    "props['model']['print'] = {}\n",
    "props['model']['print']['type'] = 'Print'\n",
    "\n",
    "globdat = {}\n",
    "\n",
    "# default declaration\n",
    "\n",
    "declare.declare_models(globdat)\n",
    "declare.declare_modules(globdat)\n",
    "declare.declare_shapes(globdat)\n",
    "    \n",
    "# Additional declaration of the new model\n",
    "    \n",
    "factory = globdat[gn.MODELFACTORY]\n",
    "factory.declare_model('Print',PrintModel)\n",
    "\n",
    "# Run the simulation again\n",
    "\n",
    "globdat = main.jive(props, globdat)"
   ]
  }
 ],
 "metadata": {
  "kernelspec": {
   "display_name": "Python 3 (ipykernel)",
   "language": "python",
   "name": "python3"
  },
  "language_info": {
   "codemirror_mode": {
    "name": "ipython",
    "version": 3
   },
   "file_extension": ".py",
   "mimetype": "text/x-python",
   "name": "python",
   "nbconvert_exporter": "python",
   "pygments_lexer": "ipython3",
   "version": "3.10.12"
  }
 },
 "nbformat": 4,
 "nbformat_minor": 5
}
