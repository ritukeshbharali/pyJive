{
 "cells": [
  {
   "cell_type": "markdown",
   "id": "734a34b9-128e-446c-9fe3-2ca1784d9251",
   "metadata": {},
   "source": [
    "<figure>\n",
    "  <IMG SRC=\"https://raw.githubusercontent.com/fmeer/public-files/main/TUlogo.png\" WIDTH=200 ALIGN=\"right\">\n",
    "</figure>\n",
    "\n",
    "# CIEM5110-2 Workshop 5.1: Frame analysis (exercise)"
   ]
  },
  {
   "cell_type": "markdown",
   "id": "6924d9be-df05-4bb7-81f7-4d34a7a785da",
   "metadata": {},
   "source": [
    "## Case definition\n",
    "In this workshop, you are asked to set up your own problem and analyse it from different angles, using the `FrameModel` and different modules from pyJive as discussed in previous workshops. The case that is studied is the one illustrated below. You know this case from the homework assignment for *Stability of Structures*.\n",
    "\n",
    "<center><img src=\"https://raw.githubusercontent.com/fmeer/public-files/main/ciem5110/formativeFrame.png\" alt=\"Simple frame\" width=\"300\"/></center>\n",
    "\n"
   ]
  },
  {
   "cell_type": "code",
   "execution_count": null,
   "id": "2e95ee22-111e-4405-97a0-89e7cd35ed9f",
   "metadata": {},
   "outputs": [],
   "source": [
    "import numpy as np\n",
    "import sys\n",
    "sys.path.append('../../')\n",
    "\n",
    "from utils import proputils as pu\n",
    "from names import GlobNames as gn\n",
    "import main\n",
    "\n",
    "%matplotlib widget"
   ]
  },
  {
   "cell_type": "markdown",
   "id": "301119da-5235-4e48-8c02-aa5fc4fdefae",
   "metadata": {},
   "source": [
    "### Linear elastic analysis\n",
    "The provided input file `linear.pro` defines a linear elastic problem. It runs on the geometry from workshop 4.2. You will need to adapt it (and also the `frame.geom` file) to perform linear elastic analysis on the given case. "
   ]
  },
  {
   "cell_type": "code",
   "execution_count": null,
   "id": "3565a207-1684-4522-b8d6-df77bccc7bcc",
   "metadata": {},
   "outputs": [],
   "source": [
    "props = pu.parse_file('linear.pro')\n",
    "globdat = main.jive(props)"
   ]
  },
  {
   "cell_type": "markdown",
   "id": "b21001e5-122b-4914-a835-3eb209d9d45c",
   "metadata": {},
   "source": [
    "#### Storing results\n",
    "Below, a function is defined to looks up load-displacement data from globdat. The function is then called to store the data from the linear elastic analysis. This can later be used to compare the results from different analyses in a single diagram.\n",
    "\n",
    "You need to modify the function to get relevant load/displacement data. Note that in order to record data for a particular node group, you need to specify this group in the `loaddisp` part of the `.pro`-file. \n",
    "\n"
   ]
  },
  {
   "cell_type": "code",
   "execution_count": null,
   "id": "6b8208b3-fdb4-40e6-9e61-65f64fe20889",
   "metadata": {},
   "outputs": [],
   "source": [
    "def getFu(globdat):\n",
    "    F = globdat['loaddisp']['topleft']['load']['dx']\n",
    "    u = globdat['loaddisp']['topleft']['disp']['dx']\n",
    "    return np.vstack((u,F))\n",
    "\n",
    "lin_elas = getFu(globdat)"
   ]
  },
  {
   "cell_type": "markdown",
   "id": "4b54b27f-3a84-4cb6-9e77-f48126f5a279",
   "metadata": {
    "tags": []
   },
   "source": [
    "### Linear buckling analysis\n",
    "Now perform linear buckling analysis. You are recommended to make a new input file because quite several modifications need to be made. You can take the one just defined for linear elastic anlysis for this case, or the one from `../4.1/frame/linbuckling.pro` as starting point. "
   ]
  },
  {
   "cell_type": "code",
   "execution_count": null,
   "id": "5bbd5ab1-7853-4b92-b1b0-19e75e5058aa",
   "metadata": {},
   "outputs": [],
   "source": []
  },
  {
   "cell_type": "markdown",
   "id": "26295bc0-dd69-4099-8c20-57dfc389ffa7",
   "metadata": {},
   "source": [
    "### Geometrically nonlinear elastic analysis\n",
    "The next step is to perform geometrically nonlinear elastic anlaysis. How do the results compare to the results from linear buckling analysis (in terms of buckling load and buckling mode)?"
   ]
  },
  {
   "cell_type": "code",
   "execution_count": null,
   "id": "metallic-backing",
   "metadata": {},
   "outputs": [],
   "source": []
  },
  {
   "cell_type": "markdown",
   "id": "7e565bc6-376f-452e-966c-47fa5696bc03",
   "metadata": {},
   "source": [
    "### Geometrically linear elastic/plastic analysis"
   ]
  },
  {
   "cell_type": "code",
   "execution_count": null,
   "id": "99e3959b-8faa-44e0-8f1c-893649ef1ca4",
   "metadata": {},
   "outputs": [],
   "source": []
  },
  {
   "cell_type": "markdown",
   "id": "d9f15424-8bc5-4231-8d3b-a40e0fab0b30",
   "metadata": {},
   "source": [
    "### Geometrically nonlinear elastic/plastic analysis"
   ]
  },
  {
   "cell_type": "code",
   "execution_count": null,
   "id": "28a1b96a-028a-4f74-a92c-86ae6b583cc6",
   "metadata": {},
   "outputs": [],
   "source": []
  },
  {
   "cell_type": "markdown",
   "id": "c4d0cf6a-aedb-4fb7-a6f4-13d999b4d3df",
   "metadata": {},
   "source": [
    "### Comparison with results\n",
    "Finally, compare the results from different analysis. \n",
    "Also include the rigid-plastic 2nd order analysis result\n",
    "(see [here](https://brightspace.tudelft.nl/d2l/le/content/520146/viewContent/3117354/View) for details)\n",
    "$$ \n",
    "F \\approx \\frac{6M_\\mathrm{p}}{L}\\left(1-2\\textstyle\\frac13\\theta\\right)\n",
    "$$\n",
    "\n",
    "\n"
   ]
  },
  {
   "cell_type": "code",
   "execution_count": null,
   "id": "2d1cd065-a160-4829-a990-91fda3f7121d",
   "metadata": {},
   "outputs": [],
   "source": []
  }
 ],
 "metadata": {
  "kernelspec": {
   "display_name": "Python 3 (ipykernel)",
   "language": "python",
   "name": "python3"
  },
  "language_info": {
   "codemirror_mode": {
    "name": "ipython",
    "version": 3
   },
   "file_extension": ".py",
   "mimetype": "text/x-python",
   "name": "python",
   "nbconvert_exporter": "python",
   "pygments_lexer": "ipython3",
   "version": "3.10.6"
  }
 },
 "nbformat": 4,
 "nbformat_minor": 5
}
