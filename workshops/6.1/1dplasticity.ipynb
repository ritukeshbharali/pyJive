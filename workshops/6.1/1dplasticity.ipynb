{
 "cells": [
  {
   "cell_type": "markdown",
   "id": "2bda7907-1edd-4e28-aa57-e6d947f9bf98",
   "metadata": {},
   "source": [
    "<figure>\n",
    "  <IMG SRC=\"https://raw.githubusercontent.com/fmeer/public-files/main/TUlogo.png\" WIDTH=200 ALIGN=\"right\">\n",
    "</figure>\n",
    "\n",
    "# CIEM5110-2 Workshop 6: Nonlinear FEM with plasticity (notebook 1)"
   ]
  },
  {
   "cell_type": "code",
   "execution_count": null,
   "id": "54a25f14-bfdd-494e-b3e0-57c134adde42",
   "metadata": {},
   "outputs": [],
   "source": [
    "import sys\n",
    "sys.path.append('../../')\n",
    "\n",
    "import matplotlib.pyplot as plt\n",
    "import contextlib\n",
    "\n",
    "from utils import proputils as pu\n",
    "from names import GlobNames as gn\n",
    "import main\n",
    "import declare"
   ]
  },
  {
   "cell_type": "markdown",
   "id": "94516414-8597-4986-943d-7594f958845c",
   "metadata": {},
   "source": [
    "## Extension problem with plasticity\n",
    "\n",
    "We first solve the following problem:\n",
    "\n",
    "<center><img src=\"https://raw.githubusercontent.com/ibcmrocha/public/main/extpointload.png\" alt=\"mesh\" width=\"300\"/></center>\n",
    "\n",
    "where instead of an elastic material we now employ a plasticity model, leading to nonlinear behavior. First, simply run the model in `bar.pro` and take a look at the resulting load-displacement behavior. Just by looking at model output, try to answer:\n",
    "\n",
    "- Is this simulation being solved in **load** or **displacement** control? Look at how the load-displacement points are spaced;\n",
    "- Does the model have any difficulty converging?"
   ]
  },
  {
   "cell_type": "code",
   "execution_count": null,
   "id": "b2b4c0fb-fd9b-4250-90fb-b807c08895a1",
   "metadata": {},
   "outputs": [],
   "source": [
    "props = pu.parse_file('bar.pro')\n",
    "\n",
    "globdat = main.jive(props)"
   ]
  },
  {
   "cell_type": "markdown",
   "id": "96d9216d-8302-43b9-9e3b-e6e9c03344d2",
   "metadata": {},
   "source": [
    "## Switch to a non-consistent tangent\n",
    "\n",
    "To show the importance of consistent linearization, let us run the same simulation with an inconsistent material tangent $\\mathbf{D}$.\n",
    "\n",
    "Do the following:\n",
    "\n",
    "- Open `materials/j2material.py` with a text editor;\n",
    "- Search for the `update` function and look for the two different `return` statements and relate them to what you have seen during the lecture last week (elastic trial, plastic corrector);\n",
    "- Add some random Gaussian noise `np.random.normal(scale=1.0)` to the tangent plastic stiffness `stiff` before it is returned\n",
    "- Reload the notebook kernel and run the simulation again;\n",
    "- Investigate convergence behavior for increasingly larger standard deviations: `scale=1.0`, `scale=10.0`, `scale=100.0`. If necessary, increase `props['nonlin']['itermax']`."
   ]
  },
  {
   "cell_type": "markdown",
   "id": "23a6a6cc-bfa6-4552-a179-87b6bbbd19bc",
   "metadata": {},
   "source": [
    "## Switch to the secant stiffness\n",
    "\n",
    "Now try a secant approach. Make `J2Material` always return the elastic (trial) stiffness regardless if plastic strain is developing or not.\n",
    "\n",
    "Reload the notebook kernel and investigate the effect of this approach on convergence."
   ]
  }
 ],
 "metadata": {
  "kernelspec": {
   "display_name": "Python 3 (ipykernel)",
   "language": "python",
   "name": "python3"
  },
  "language_info": {
   "codemirror_mode": {
    "name": "ipython",
    "version": 3
   },
   "file_extension": ".py",
   "mimetype": "text/x-python",
   "name": "python",
   "nbconvert_exporter": "python",
   "pygments_lexer": "ipython3",
   "version": "3.10.9"
  }
 },
 "nbformat": 4,
 "nbformat_minor": 5
}
