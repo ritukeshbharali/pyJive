{
 "cells": [
  {
   "cell_type": "markdown",
   "id": "2bda7907-1edd-4e28-aa57-e6d947f9bf98",
   "metadata": {},
   "source": [
    "<figure>\n",
    "  <IMG SRC=\"https://raw.githubusercontent.com/fmeer/public-files/main/TUlogo.png\" WIDTH=200 ALIGN=\"right\">\n",
    "</figure>\n",
    "\n",
    "# CIEM5110-2 Workshop 6: Nonlinear FEM with plasticity (notebook 2)"
   ]
  },
  {
   "cell_type": "code",
   "execution_count": null,
   "id": "54a25f14-bfdd-494e-b3e0-57c134adde42",
   "metadata": {},
   "outputs": [],
   "source": [
    "import sys\n",
    "sys.path.append('../../')\n",
    "\n",
    "import numpy as np\n",
    "import matplotlib.pyplot as plt\n",
    "import contextlib\n",
    "\n",
    "from utils import proputils as pu\n",
    "from names import GlobNames as gn\n",
    "import main\n",
    "import declare"
   ]
  },
  {
   "cell_type": "markdown",
   "id": "94516414-8597-4986-943d-7594f958845c",
   "metadata": {},
   "source": [
    "## Plasticity for a more complex 2D domain\n",
    "\n",
    "In this final demonstration, we look at the following geometry and boundary conditions:\n",
    "\n",
    "<center><img src=\"https://raw.githubusercontent.com/ibcmrocha/public/main/5110_multihole.png\" alt=\"mesh\" width=\"800\"/></center>\n",
    "\n",
    "i.e. we pull this square-shaped domain on the right edge while keeping the left edge fixed horizontally and the bottom edge fixed vertically.\n",
    "\n",
    "Here we use the $J_2$ plasticity model from before but now in 2D under plane stress assumptions. The model assumes the following yield surface:\n",
    "\n",
    "$$f = \\sqrt{3J_2} + \\sigma_\\mathrm{y}$$\n",
    "\n",
    "where the yield stress $\\sigma_\\mathrm{y}$ is modeled with an <span style=\"color:red\">**exponential hardening**</span> behavior:\n",
    "\n",
    "$$ \\sigma_\\mathrm{y} = 64.8 - 33.6\\exp\\left(\\frac{\\kappa}{-0.003407}\\right)$$\n",
    "\n",
    "The simulation is run in <span style=\"color:red\">**displacement control**</span>. To allow for a more complex behavior to be investigated, we let the displacement of the right edge of the model (`props['model']['dispcontrol']['timeSignal']`) change in time according to:\n",
    "\n",
    "$$ \\mathtt{dx}\\left(t\\right) = \\frac{1}{2}\\sin\\left(2\\pi t\\right)$$\n",
    "\n",
    "with $\\Delta t=0.01\\,\\mathrm{s}$ for $100$ steps (i.e. a total pseudo-time of $1\\,\\mathrm{s}$). We then use `LoadDispModule` and `GraphModule` to plot the load-displacement curve of the right edge of the model.\n",
    "\n",
    "In the file `voids.pro` you can find an initial version of the properties file for this problem. You will also find <span style=\"color:red\">***`???` marks at several places***</span>. Fill them in correctly and run the model with the block below."
   ]
  },
  {
   "cell_type": "code",
   "execution_count": null,
   "id": "b2b4c0fb-fd9b-4250-90fb-b807c08895a1",
   "metadata": {},
   "outputs": [],
   "source": [
    "props = pu.parse_file('voids.pro')\n",
    "\n",
    "globdat = main.jive(props)"
   ]
  },
  {
   "cell_type": "markdown",
   "id": "63ba98bd-5b34-4cd1-baad-45a61a442869",
   "metadata": {},
   "source": [
    "From `J2Material`, we store in `globdat` the maximum value of $\\kappa$ throughout the whole domain $\\Omega$ after every time step. We can then plot this to see how $\\kappa$ is evolving in time:"
   ]
  },
  {
   "cell_type": "code",
   "execution_count": null,
   "id": "f5f466e7-7a68-4bb4-acb5-bd3c34d78455",
   "metadata": {},
   "outputs": [],
   "source": [
    "plt.figure()\n",
    "plt.xlabel('Time step')\n",
    "plt.ylabel('$\\max_\\Omega(\\kappa)$')\n",
    "plt.plot(range(len(globdat['maxkappa'])),globdat['maxkappa'])"
   ]
  },
  {
   "cell_type": "markdown",
   "id": "e4533452-fddd-4676-970a-0a8d3a43aea6",
   "metadata": {},
   "source": [
    "For this model, $\\kappa$ is an accumulated measure of plastic strain given by:\n",
    "\n",
    "$$\\kappa(t)=\\displaystyle\\int_0^t\\sqrt{\\frac{2}{3}\\dot{\\boldsymbol{\\varepsilon}}^\\mathrm{p}(t):\\dot{\\boldsymbol{\\varepsilon}}^\\mathrm{p}(t)}\\,dt$$\n",
    "\n",
    "With this in mind, do the results above make sense?\n",
    "\n",
    "Finally, we can look at the displacement field evolution for this model:"
   ]
  },
  {
   "cell_type": "code",
   "execution_count": null,
   "id": "79c9bb80-4511-474c-bc62-5fc833d37e23",
   "metadata": {},
   "outputs": [],
   "source": [
    "view = globdat[gn.MODULEFACTORY].get_module('View','view')\n",
    "\n",
    "props['view'] = {}\n",
    "props['view']['plot'] = 'solution[dx]'\n",
    "props['view']['deform'] = 1\n",
    "props['view']['ncolors'] = 100\n",
    "props['view']['interactive'] = 'True'\n",
    "props['view']['colorMap'] = 'plasma_r'\n",
    "props['view']['step0'] = 50\n",
    "\n",
    "view.init(props, globdat)\n",
    "status = view.shutdown(globdat)"
   ]
  }
 ],
 "metadata": {
  "kernelspec": {
   "display_name": "Python 3 (ipykernel)",
   "language": "python",
   "name": "python3"
  },
  "language_info": {
   "codemirror_mode": {
    "name": "ipython",
    "version": 3
   },
   "file_extension": ".py",
   "mimetype": "text/x-python",
   "name": "python",
   "nbconvert_exporter": "python",
   "pygments_lexer": "ipython3",
   "version": "3.10.9"
  }
 },
 "nbformat": 4,
 "nbformat_minor": 5
}
