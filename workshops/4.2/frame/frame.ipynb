{
 "cells": [
  {
   "cell_type": "markdown",
   "id": "734a34b9-128e-446c-9fe3-2ca1784d9251",
   "metadata": {},
   "source": [
    "<figure>\n",
    "  <IMG SRC=\"https://raw.githubusercontent.com/fmeer/public-files/main/TUlogo.png\" WIDTH=200 ALIGN=\"right\">\n",
    "</figure>\n",
    "\n",
    "# CIEM5110-2 Workshop 4.2: Nonlinear FEM with plastic hinges and arclength (notebook 2)"
   ]
  },
  {
   "cell_type": "markdown",
   "id": "6924d9be-df05-4bb7-81f7-4d34a7a785da",
   "metadata": {},
   "source": [
    "## Simple frame\n",
    "In this notebook the buckling behavior of a simple frame is analyzed with geometrically nonlinear analysis and plastic hinges. \n",
    "\n",
    "<center><img src=\"https://raw.githubusercontent.com/fmeer/public-files/main/ciem5110/frameA.png\" alt=\"Simple frame\" width=\"300\"/></center>\n",
    "\n"
   ]
  },
  {
   "cell_type": "code",
   "execution_count": null,
   "id": "2e95ee22-111e-4405-97a0-89e7cd35ed9f",
   "metadata": {},
   "outputs": [],
   "source": [
    "import numpy as np\n",
    "import matplotlib.pyplot as plt\n",
    "import sys\n",
    "sys.path.append('../../../')\n",
    "\n",
    "from utils import proputils as pu\n",
    "import main\n",
    "from names import GlobNames as gn\n",
    "\n",
    "%matplotlib tk"
   ]
  },
  {
   "cell_type": "markdown",
   "id": "4b54b27f-3a84-4cb6-9e77-f48126f5a279",
   "metadata": {},
   "source": [
    "### Geometrically nonlinear analysis"
   ]
  },
  {
   "cell_type": "markdown",
   "id": "1b55c3bf-fb0f-4825-94d5-d330ec55b74e",
   "metadata": {},
   "source": [
    "Starting point is geometrically nonlinear analysis, with input as in workshop 4.1. "
   ]
  },
  {
   "cell_type": "code",
   "execution_count": null,
   "id": "64dde8fb-31d5-4c80-9081-5835e82a0e45",
   "metadata": {
    "scrolled": true
   },
   "outputs": [],
   "source": [
    "plt.close('all')\n",
    "props = pu.parse_file('nonlinear.pro')\n",
    "globdat = main.jive(props)"
   ]
  },
  {
   "cell_type": "markdown",
   "id": "7623ceaa-6c28-448a-b424-7afe7ff832c4",
   "metadata": {},
   "source": [
    "To inspect some more results, we can create a new `FrameViewModule` with properties that are defined in the notebook rather than in the `.pro` file. From plotting the moment-distribution it is again apparent that the analysis is nonlinear. The moments are computed in the deformed configuration, otherwise it would not be possible to get nonlinear variations along the members of the frame."
   ]
  },
  {
   "cell_type": "code",
   "execution_count": null,
   "id": "metallic-backing",
   "metadata": {},
   "outputs": [],
   "source": [
    "\n",
    "\n",
    "fv = globdat[gn.MODULEFACTORY].get_module('FrameView','fv')\n",
    "\n",
    "props['fv'] = {}\n",
    "props['fv']['plotStress'] = 'M'\n",
    "props['fv']['deform'] = '0'\n",
    "props['fv']['interactive'] = 'True'\n",
    "props['fv']['step0'] = 100\n",
    "\n",
    "plt.close('all')\n",
    "fv.init(props, globdat)\n",
    "status = fv.run(globdat)\n",
    "fv.shutdown(globdat)\n",
    "\n"
   ]
  },
  {
   "cell_type": "markdown",
   "id": "016e3a79-e359-45ca-bc77-1cd0ce474654",
   "metadata": {},
   "source": [
    "### Add plasticity"
   ]
  },
  {
   "cell_type": "markdown",
   "id": "4aa6526a-2590-4393-9a30-ffdaac4c1056",
   "metadata": {},
   "source": [
    "We add plastic hinges to the analysis with two additional properties in the input file for nonlinear analysis."
   ]
  },
  {
   "cell_type": "code",
   "execution_count": null,
   "id": "54955e2a-51ea-42f8-81c2-f0b5d50560f9",
   "metadata": {},
   "outputs": [],
   "source": [
    "plt.close('all')\n",
    "props = pu.parse_file('nonlinear.pro')\n",
    "props['model']['frame']['Mp'] = 0.3;\n",
    "props['model']['frame']['plastic'] = 'True';\n",
    "globdat = main.jive(props)\n"
   ]
  },
  {
   "cell_type": "markdown",
   "id": "226f0767-8f4e-4ff5-8d2c-a3a3ce8f62e4",
   "metadata": {},
   "source": [
    "It is interesting to again inspect the evolution of the moment distribution"
   ]
  },
  {
   "cell_type": "code",
   "execution_count": null,
   "id": "2ab64e55-13ae-48cd-9d94-a428059be465",
   "metadata": {},
   "outputs": [],
   "source": [
    "props['fv'] = {}\n",
    "props['fv']['plotStress'] = 'M'\n",
    "props['fv']['deform'] = '0'\n",
    "props['fv']['interactive'] = 'True'\n",
    "props['fv']['step0'] = 100\n",
    "\n",
    "plt.close('all')\n",
    "fv.init(props, globdat)\n",
    "status = fv.run(globdat)\n",
    "fv.shutdown(globdat)"
   ]
  },
  {
   "cell_type": "code",
   "execution_count": null,
   "id": "a2b2e5a5-457c-430f-88e2-fa16d6822a70",
   "metadata": {},
   "outputs": [],
   "source": []
  }
 ],
 "metadata": {
  "kernelspec": {
   "display_name": "Python 3 (ipykernel)",
   "language": "python",
   "name": "python3"
  },
  "language_info": {
   "codemirror_mode": {
    "name": "ipython",
    "version": 3
   },
   "file_extension": ".py",
   "mimetype": "text/x-python",
   "name": "python",
   "nbconvert_exporter": "python",
   "pygments_lexer": "ipython3",
   "version": "3.10.6"
  }
 },
 "nbformat": 4,
 "nbformat_minor": 5
}
