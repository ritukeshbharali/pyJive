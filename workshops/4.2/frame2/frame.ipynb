{
 "cells": [
  {
   "cell_type": "markdown",
   "id": "734a34b9-128e-446c-9fe3-2ca1784d9251",
   "metadata": {},
   "source": [
    "<figure>\n",
    "  <IMG SRC=\"https://raw.githubusercontent.com/fmeer/public-files/main/TUlogo.png\" WIDTH=200 ALIGN=\"right\">\n",
    "</figure>\n",
    "\n",
    "# CIEM5110-2 Workshop 4.2: Nonlinear FEM with plastic hinges and arclength (notebook 3)"
   ]
  },
  {
   "cell_type": "markdown",
   "id": "6924d9be-df05-4bb7-81f7-4d34a7a785da",
   "metadata": {},
   "source": [
    "## Frame with lateral loading\n",
    "We exame the same frame with a different loading. This is the load case that has been discussed in the plasticity lectures of *Stability of Structures*. We use $L=2$, $EI=10$, $EA=20000$, $GA=10000$.\n",
    "\n",
    "<center><img src=\"https://raw.githubusercontent.com/fmeer/public-files/main/ciem5110/frameB.png\" alt=\"Simple frame with lateral load\" width=\"300\"/></center>\n",
    "\n"
   ]
  },
  {
   "cell_type": "code",
   "execution_count": null,
   "id": "2e95ee22-111e-4405-97a0-89e7cd35ed9f",
   "metadata": {},
   "outputs": [],
   "source": [
    "import numpy as np\n",
    "import matplotlib.pyplot as plt\n",
    "import sys\n",
    "sys.path.append('../../../')\n",
    "\n",
    "from utils import proputils as pu\n",
    "import main\n",
    "from names import GlobNames as gn\n",
    "\n",
    "%matplotlib tk"
   ]
  },
  {
   "cell_type": "markdown",
   "id": "4b54b27f-3a84-4cb6-9e77-f48126f5a279",
   "metadata": {},
   "source": [
    "### Geometrically nonlinear analysis"
   ]
  },
  {
   "cell_type": "markdown",
   "id": "1b55c3bf-fb0f-4825-94d5-d330ec55b74e",
   "metadata": {},
   "source": [
    "Starting point is geometrically nonlinear analysis, with input as in workshop 4.1. "
   ]
  },
  {
   "cell_type": "code",
   "execution_count": null,
   "id": "64dde8fb-31d5-4c80-9081-5835e82a0e45",
   "metadata": {
    "scrolled": true,
    "tags": []
   },
   "outputs": [],
   "source": [
    "plt.close('all')\n",
    "props = pu.parse_file('nonlinear.pro')\n",
    "globdat = main.jive(props)\n",
    "\n",
    "def getFu(globdat):\n",
    "    F = globdat['loaddisp']['topleft']['load']['dx']\n",
    "    u = globdat['loaddisp']['topleft']['disp']['dx']\n",
    "    return np.vstack((u,F))\n",
    "\n",
    "FuPlasNL = getFu(globdat)"
   ]
  },
  {
   "cell_type": "markdown",
   "id": "7623ceaa-6c28-448a-b424-7afe7ff832c4",
   "metadata": {},
   "source": [
    "To inspect some more results, we can create a new `FrameViewModule`."
   ]
  },
  {
   "cell_type": "code",
   "execution_count": null,
   "id": "metallic-backing",
   "metadata": {},
   "outputs": [],
   "source": [
    "\n",
    "\n",
    "fv = globdat[gn.MODULEFACTORY].get_module('FrameView','fv')\n",
    "\n",
    "props['fv'] = {}\n",
    "props['fv']['plotStress'] = 'M'\n",
    "props['fv']['deform'] = '1'\n",
    "props['fv']['interactive'] = 'True'\n",
    "props['fv']['plotNeumann'] = 'False'\n",
    "props['fv']['step0'] = 100\n",
    "\n",
    "plt.close('all')\n",
    "fv.init(props, globdat)\n",
    "status = fv.run(globdat)\n",
    "fv.shutdown(globdat)\n",
    "\n"
   ]
  },
  {
   "cell_type": "markdown",
   "id": "016e3a79-e359-45ca-bc77-1cd0ce474654",
   "metadata": {},
   "source": [
    "### Geometrically linear version"
   ]
  },
  {
   "cell_type": "markdown",
   "id": "4aa6526a-2590-4393-9a30-ffdaac4c1056",
   "metadata": {},
   "source": [
    "We add plastic hinges to the analysis with two additional properties in the input file for nonlinear analysis. From the immediate convergence and from the shape of the load-displacement curve, it can be observed that the analysis is indeed linear (except for discrete events when the plastic hinges are added). Do you notice the difference in displacements compared to the nonlinear analysis?"
   ]
  },
  {
   "cell_type": "code",
   "execution_count": null,
   "id": "54955e2a-51ea-42f8-81c2-f0b5d50560f9",
   "metadata": {
    "tags": []
   },
   "outputs": [],
   "source": [
    "plt.close('all')\n",
    "props = pu.parse_file('nonlinear.pro')\n",
    "props['model']['frame']['subtype'] = 'linear';\n",
    "globdat = main.jive(props)\n",
    "\n",
    "FuPlasLin = getFu(globdat)"
   ]
  },
  {
   "cell_type": "code",
   "execution_count": null,
   "id": "7b593cf8-4de9-4b5d-acdf-c30bbcc5b082",
   "metadata": {},
   "outputs": [],
   "source": [
    "Mp = float(props['model']['frame']['Mp'])\n",
    "L = 2\n",
    "uanalytical = np.linspace(0,0.3,100)\n",
    "Fanalytical = 3*Mp/L*(1-43/3*uanalytical/L)"
   ]
  },
  {
   "cell_type": "code",
   "execution_count": null,
   "id": "7f86aa48-2195-4493-aadb-9c20f6a62eaa",
   "metadata": {},
   "outputs": [],
   "source": [
    "plt.close('all')\n",
    "plt.plot(FuPlasNL[0],FuPlasNL[1])\n",
    "plt.plot(FuPlasLin[0],FuPlasLin[1])\n",
    "plt.plot(uanalytical,Fanalytical,'--')\n",
    "plt.plot(uanalytical,Fanalytical[0]*np.ones(uanalytical.shape),'--')\n",
    "plt.ylim(0,0.7)\n",
    "plt.show()"
   ]
  },
  {
   "cell_type": "markdown",
   "id": "0b25908f-46f9-45d6-9471-653a2338966f",
   "metadata": {},
   "source": [
    "It is a bit hard to judge the level of agreement between rigid-plastic and nonlinear FE solution. This is due to the fact that displacements are already significant when the mechanism develops in the FE simulation. Therefore, the second order approximation in the rigid-plastic solution is not realistic in the region where the two can be compared. \n",
    "\n",
    "To check the analytical result, we can let the FE solution behave more in agreement with the rigid-plastic assumptions. This is done by increasing the stiffnesses."
   ]
  },
  {
   "cell_type": "code",
   "execution_count": null,
   "id": "de8e9a21-ebfc-4e0e-81de-d9fc0a264cdf",
   "metadata": {},
   "outputs": [],
   "source": [
    "plt.close('all')\n",
    "props = pu.parse_file('nonlinear.pro')\n",
    "props['model']['frame']['EI'] = '2.e3'\n",
    "props['model']['frame']['GA'] = '1.e6'\n",
    "props['model']['frame']['EA'] = '2.e6'\n",
    "globdat = main.jive(props)\n",
    "\n",
    "def getFu(globdat):\n",
    "    F = globdat['loaddisp']['topleft']['load']['dx']\n",
    "    u = globdat['loaddisp']['topleft']['disp']['dx']\n",
    "    return np.vstack((u,F))\n",
    "\n",
    "FuRigPlas = getFu(globdat)"
   ]
  },
  {
   "cell_type": "code",
   "execution_count": null,
   "id": "bbd6bce0-1739-4b5d-8c56-4849bf4c790f",
   "metadata": {},
   "outputs": [],
   "source": [
    "plt.close('all')\n",
    "plt.plot(FuPlasNL[0],FuPlasNL[1],label='nonlinear elastic/plastic')\n",
    "plt.plot(FuPlasLin[0],FuPlasLin[1],label='linear elastic/plastic')\n",
    "plt.plot(FuRigPlas[0],FuRigPlas[1],label='nonlinear rigid/plastic')\n",
    "plt.plot(uanalytical,Fanalytical,'--',label='analytical 2nd order')\n",
    "plt.plot(uanalytical,Fanalytical[0]*np.ones(uanalytical.shape),'--',label='analytical 1st order')\n",
    "plt.xlabel('u')\n",
    "plt.ylabel('F')\n",
    "plt.ylim(0,0.7)\n",
    "plt.legend()\n",
    "plt.show()"
   ]
  },
  {
   "cell_type": "markdown",
   "id": "d23de1b1-018c-4288-8307-8ddcb90a3b72",
   "metadata": {},
   "source": [
    "Now, we can see that the analytical second order approximation indeed gives an accurate representation of the initial slope of the force-displacement relation in the plastic mechanism."
   ]
  },
  {
   "cell_type": "markdown",
   "id": "2974895b-4852-4cd6-8a67-710ed36db071",
   "metadata": {},
   "source": [
    "The comparison above indicates that the buckling load is of the same order of magnitude as the plastic collapse load, because the maximum load from complete nonlinear analysis including both plasticity and geometric nonlinearity is significantly lower than the plastic collapse load from linear analysis. With linear buckling analysis we can assert whether this is indeed the case. We remove the `ArclenModule` from the `props` and add a `LinBuckModule`"
   ]
  },
  {
   "cell_type": "code",
   "execution_count": null,
   "id": "3665418d-9d46-4444-8984-d214cfdd9d07",
   "metadata": {},
   "outputs": [],
   "source": [
    "plt.close('all')\n",
    "props = pu.parse_file('nonlinear.pro')\n",
    "del props['nonlin']\n",
    "del props['loaddisp']\n",
    "del props['graph']\n",
    "\n",
    "props['model']['neum']['values'] = props['model']['neum']['loadIncr']\n",
    "props['linbuck'] = {}\n",
    "props['linbuck']['type'] = 'LinBuck'\n",
    "globdat = main.jive(props)\n"
   ]
  },
  {
   "cell_type": "markdown",
   "id": "510914e8-171a-47b2-8da2-c77e8829bf56",
   "metadata": {},
   "source": [
    "Finally, we can check the accuracy of Merchant's formula for predicting the maximum load $F_\\mathrm{max}$ from the linear plastic collapse load $F_\\mathrm{p}$ and the linear buckling load $F_\\mathrm{b}$ through\n",
    "$$\\frac{1}{F_\\mathrm{max}} = \\frac{1}{F_\\mathrm{p}} + \\frac{1}{F_\\mathrm{b}}$$"
   ]
  },
  {
   "cell_type": "code",
   "execution_count": null,
   "id": "7c3b37e1-884a-40ce-a07d-644e98836a7c",
   "metadata": {},
   "outputs": [],
   "source": [
    "Fp = Fanalytical[0]\n",
    "Fb = globdat[gn.LBFACTORS][0].real\n",
    "Fmerchant = 1/(1/Fp+1/Fb)\n",
    "FmaxFEM = max(FuPlasNL[1])\n",
    "print('Fp        = ' + str(Fp))\n",
    "print('Fb        = ' + str(Fb))\n",
    "print('Fmerchant = ' + str(Fmerchant))\n",
    "print('FmaxFEM   = ' + str(FmaxFEM))"
   ]
  },
  {
   "cell_type": "code",
   "execution_count": null,
   "id": "e810bf31-ab00-4568-af42-d0dda7908a84",
   "metadata": {},
   "outputs": [],
   "source": []
  }
 ],
 "metadata": {
  "kernelspec": {
   "display_name": "Python 3 (ipykernel)",
   "language": "python",
   "name": "python3"
  },
  "language_info": {
   "codemirror_mode": {
    "name": "ipython",
    "version": 3
   },
   "file_extension": ".py",
   "mimetype": "text/x-python",
   "name": "python",
   "nbconvert_exporter": "python",
   "pygments_lexer": "ipython3",
   "version": "3.10.6"
  }
 },
 "nbformat": 4,
 "nbformat_minor": 5
}
