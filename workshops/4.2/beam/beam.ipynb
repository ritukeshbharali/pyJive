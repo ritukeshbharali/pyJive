{
 "cells": [
  {
   "cell_type": "markdown",
   "id": "d7c79ba7-683d-4e5d-87ba-3ed1d4df5b38",
   "metadata": {},
   "source": [
    "<figure>\n",
    "  <IMG SRC=\"https://raw.githubusercontent.com/fmeer/public-files/main/TUlogo.png\" WIDTH=200 ALIGN=\"right\">\n",
    "</figure>\n",
    "\n",
    "# CIEM5110-2 Workshop 4.2: Nonlinear FEM with plastic hinges and arclength (notebook 1)"
   ]
  },
  {
   "cell_type": "markdown",
   "id": "b88ed519-54f2-49db-90ef-896c6a7918b9",
   "metadata": {},
   "source": [
    "## Euler Beam\n",
    "In this notebook we consider the geometrically nonlinear behavior of a simply supported beam with two point loads and a plastic hinge. This case has been discussed in the lecture on plasticity in *Stability of Structures*.\n",
    "\n",
    "<center><img src=\"https://raw.githubusercontent.com/fmeer/public-files/main/ciem5110/plasticBeam.png\" alt=\"Euler beam\" width=\"700\"/></center>\n",
    "\n"
   ]
  },
  {
   "cell_type": "code",
   "execution_count": null,
   "id": "2e95ee22-111e-4405-97a0-89e7cd35ed9f",
   "metadata": {},
   "outputs": [],
   "source": [
    "import numpy as np\n",
    "import matplotlib.pyplot as plt\n",
    "import sys\n",
    "sys.path.append('../../../')\n",
    "\n",
    "from utils import proputils as pu\n",
    "import main\n",
    "from names import GlobNames as gn\n",
    "\n",
    "%matplotlib tk"
   ]
  },
  {
   "cell_type": "markdown",
   "id": "301119da-5235-4e48-8c02-aa5fc4fdefae",
   "metadata": {},
   "source": [
    "### Geometrically nonlinear elastic analysis\n"
   ]
  },
  {
   "cell_type": "code",
   "execution_count": null,
   "id": "3565a207-1684-4522-b8d6-df77bccc7bcc",
   "metadata": {},
   "outputs": [],
   "source": [
    "plt.close('all')\n",
    "props = pu.parse_file('elastic.pro')\n",
    "globdat = main.jive(props)\n",
    "\n",
    "def plotFu(globdat):\n",
    "    # make a customized force-displacement plot\n",
    "    Ftot = globdat['loaddisp']['left']['load']['dx'] + globdat['loaddisp']['mid']['load']['dy']\n",
    "    umid = globdat['loaddisp']['mid']['disp']['dy']\n",
    "    plt.figure()\n",
    "    plt.plot(umid,Ftot,marker='.')\n",
    "    plt.xlabel('u')\n",
    "    plt.ylabel('F')\n",
    "    plt.show()\n",
    "    \n",
    "plotFu(globdat)\n"
   ]
  },
  {
   "cell_type": "code",
   "execution_count": null,
   "id": "ded76b22-1f27-49bb-a60d-8c97433b2dfd",
   "metadata": {},
   "outputs": [],
   "source": []
  },
  {
   "cell_type": "markdown",
   "id": "b37761ee-026f-4a2e-9c5c-91aca2496aef",
   "metadata": {},
   "source": [
    "### Analysis with plastic hinges"
   ]
  },
  {
   "cell_type": "markdown",
   "id": "little-divide",
   "metadata": {},
   "source": [
    "We can also perform nonlinear analysis. The input file `nonlin.pro` contains a lot of similar content, but specifies `NonlinModule` instead of `LinBuckModule` to perform a different type of analysis."
   ]
  },
  {
   "cell_type": "code",
   "execution_count": null,
   "id": "dietary-oriental",
   "metadata": {
    "scrolled": true
   },
   "outputs": [],
   "source": [
    "props = pu.parse_file('elastic.pro')\n",
    "props['model']['frame']['plastic'] = 'True'\n",
    "props['model']['frame']['Mp'] = '0.4'\n",
    "\n",
    "plt.close('all')\n",
    "globdat = main.jive(props)\n",
    "plotFu(globdat)"
   ]
  },
  {
   "cell_type": "markdown",
   "id": "8ffca4bf-83dd-491f-b44b-16d9b6e6a4a8",
   "metadata": {},
   "source": [
    "### Change $\\alpha$ to a lower value"
   ]
  },
  {
   "cell_type": "code",
   "execution_count": null,
   "id": "alpine-transmission",
   "metadata": {},
   "outputs": [],
   "source": [
    "alpha = 0.5\n",
    "plt.close('all')\n",
    "props['model']['neum']['loadIncr'] = str([1-alpha,alpha])\n",
    "globdat = main.jive(props)\n",
    "plotFu(globdat)"
   ]
  },
  {
   "cell_type": "code",
   "execution_count": null,
   "id": "dbdb8d27-bd43-4a75-8042-f85fec62d4a5",
   "metadata": {},
   "outputs": [],
   "source": [
    "# function that runs analysis for given load case\n",
    "def run_analysis(alpha,props):\n",
    "    props['model']['neum']['loadIncr'] = str([1-alpha,alpha])\n",
    "    globdat = main.jive(props)\n",
    "    F = globdat['loaddisp']['left']['load']['dx'] + globdat['loaddisp']['mid']['load']['dy']\n",
    "    u = globdat['loaddisp']['mid']['disp']['dy']\n",
    "    print('done with analysis with alpha ' + str(alpha))\n",
    "    return F, u\n",
    "\n",
    "# switch off frameviewmodule\n",
    "if 'frameview' in props: \n",
    "    del props['frameview']    \n",
    "\n",
    "# run analysis for a number of different alphas\n",
    "plt.close('all')\n",
    "for alpha in [0.001,0.01,0.02,0.05,0.1,0.2,0.5,1,1.5]:\n",
    "    F,u = run_analysis(alpha,props)\n",
    "    plt.plot(u,F)\n",
    "plt.show()\n"
   ]
  },
  {
   "cell_type": "code",
   "execution_count": null,
   "id": "5b28e443-ab07-4324-abb9-e2fc93f5441b",
   "metadata": {},
   "outputs": [],
   "source": []
  }
 ],
 "metadata": {
  "kernelspec": {
   "display_name": "Python 3 (ipykernel)",
   "language": "python",
   "name": "python3"
  },
  "language_info": {
   "codemirror_mode": {
    "name": "ipython",
    "version": 3
   },
   "file_extension": ".py",
   "mimetype": "text/x-python",
   "name": "python",
   "nbconvert_exporter": "python",
   "pygments_lexer": "ipython3",
   "version": "3.10.6"
  }
 },
 "nbformat": 4,
 "nbformat_minor": 5
}
